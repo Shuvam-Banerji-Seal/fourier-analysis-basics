{
 "cells": [
  {
   "cell_type": "markdown",
   "metadata": {},
   "source": [
    "<link rel=\"stylesheet\" href=\"./styles.css\">\n",
    "<div class=\"warn\">\n",
    "\n",
    "<b>Custom CSS styling</b>\n",
    "\n",
    "This notebook uses custom CSS styling. If you don't see this text on a colored background, make sure to not view it on GitHub, but instead in VSCode (or another editor that can render Jupyter notebooks with custom CSS). Note that the custom CSS also does not work in CoCalc due to a bug I've reported [here](https://github.com/sagemathinc/cocalc/issues/7560#issue-2302223105).\n",
    "<br><br>\n",
    "\n",
    "</div>"
   ]
  },
  {
   "cell_type": "markdown",
   "metadata": {},
   "source": [
    "<link rel=\"stylesheet\" href=\"./styles.css\">\n",
    "<div class=\"warn\">\n",
    "\n",
    "<b>⚠ This notebook is under construction</b>\n",
    "\n",
    "This document is currently being worked on and is far from being complete / ready to use.<br>And don't worry, there will be more Sage-related code in the end.\n",
    "<br><br>\n",
    "\n",
    "</div>"
   ]
  },
  {
   "cell_type": "markdown",
   "metadata": {},
   "source": [
    "# **Fourier Transform in SageMath**\n",
    "**_A project by Felix Lentze & Dominic Plein ([@Splience](https://youtube.com/@splience))_**"
   ]
  },
  {
   "cell_type": "markdown",
   "metadata": {},
   "source": [
    "In this project, we will discuss what sound is, how to represent it mathematically & in a computer, and how to examine its frequency content using the Fourier Transform. The latter will be implemented in SageMath, a free open-source computer algebra system as superset of Python which bundles many great libraries like numpy, scipy, matplotlib, and more. With the help of filter matrices, the frequency spectrum of a sound can be manipulated. This is demonstrated with some sample sounds.\n",
    "\n",
    "This projected is intended for educational purposes, i.e. we don't focus on performance of our code (for that, see the FFT algorithm implemented in system-level languages like Rust or C++). Basic knowledge of linear algebra as well as Python are required. The key points are explained next to the code. The reader is encouraged to experiment with the code and the provided sound samples.\n",
    "\n",
    "Throughout your journey of exploring the amazing world of Fourier in this notebook, you might want to have the amazing book [Linear algebra, signal proceessing, and wavelets. A unified approach.](https://www.uio.no/studier/emner/matnat/math/nedlagte-emner/MAT-INF2360/v15/kompendium/) by Øyvind Ryan open next to you. When we reference a theorem/definition from this book, we refer to the January 21, 2015 Python edition."
   ]
  },
  {
   "cell_type": "markdown",
   "metadata": {},
   "source": [
    "---"
   ]
  },
  {
   "cell_type": "markdown",
   "metadata": {},
   "source": [
    "### **🌟 Preface: SageMath vs. Python?**"
   ]
  },
  {
   "cell_type": "markdown",
   "metadata": {},
   "source": [
    "In the seminar, it might have come across as if Sage was a totally different programming language than Python. In fact, on the [SageMath website](https://www.sagemath.org/library-press.html), we find this:\n",
    "\n",
    "> Leverages Existing Software: SageMath does not reinvent the wheel for every known calculation. When possible, it uses existing tools to solve the problem and combine all of them in one unique interface. This concept not only exposes software packages to a wider audience, but also helps to increase the quality by submitting bugs upstream.\n",
    "\n",
    "> SageMath uses Python as its \"glue language\" to interface with all its components. Python is also SageMath's primary interface language and hence SageMath does not invent a new programming language as other mathematical software systems do. Python is well established among research communities and makes interfacing even less complicated.\n",
    "\n",
    "So, SageMath uses Python as \"glue language\". In fact, it provides a unified Python interface to many great libraries in the scientific community, among other: `numpy`, `scipy`, `matplotlib`, `Maxima`, `BLAS` etc. (see also [here](https://doc.sagemath.org/html/en/faq/faq-general.html#why-did-you-write-sage-from-scratch-instead-of-using-other-existing-software-and-or-libraries)).\n",
    "\n",
    "But then, you might wonder why you can write something like this:\n",
    "\n",
    "```python\n",
    "f(x) = x^2\n",
    "```\n",
    "\n",
    "This is not valid python syntax. You cannot name a variable f(x) in Python and to raise a number to a power, you use `**` instead of `^`. In SageMath, however, you can do this. This is because SageMath is a superset of Python, i.e. it extends the syntax of Python with some niceties like this one to make your life easier. Technically, Sage includes a [preparsing](https://doc.sagemath.org/html/en/developer/coding_in_python.html#sage-preparsing) step to convert the special syntax to valid Python code. If you want to dive deeper, [this is the Python method](https://github.com/sagemath/sage/blob/ffbbea9cb2360340f1c5517b590883fdaf02575c/src/sage/repl/preparse.py#L1382) responsible to parse statements like the one above."
   ]
  },
  {
   "cell_type": "code",
   "execution_count": 1,
   "metadata": {},
   "outputs": [
    {
     "name": "stdout",
     "output_type": "stream",
     "text": [
      "Via SageMath syntax: 25\n",
      "Directly via Python (this is what SageMath does under the hood): 25\n"
     ]
    }
   ],
   "source": [
    "# Only possible in Sage (but just syntactic sugar)\n",
    "f(x) = x^2\n",
    "print(f\"Via SageMath syntax: {f(5)}\")\n",
    "\n",
    "# Sage will convert the above snippet to the following code internally.\n",
    "# You can find this out by executing `preparse(\"f(x) = x^2\")`.\n",
    "__tmp__ = var(\"x\");\n",
    "f = symbolic_expression(x^Integer(2)).function(x)\n",
    "print(f\"Directly via Python (this is what SageMath does under the hood): {f(5)}\")"
   ]
  },
  {
   "cell_type": "markdown",
   "metadata": {},
   "source": [
    "**SageMath is a superset of Python. Therefore, every Python code you write is also SageMath code by definition (but not the other way around as seen in the example)**. Sage bundles many great open-source libraries and provides a unified interface to them."
   ]
  },
  {
   "cell_type": "markdown",
   "metadata": {},
   "source": [
    "### **🌟 Import packages**"
   ]
  },
  {
   "cell_type": "markdown",
   "metadata": {},
   "source": [
    "From the [Sage documentation](https://doc.sagemath.org/html/en/thematic_tutorials/numerical_sage/numerical_tools.html): <small>(highlights & line breaks by us)</small>\n",
    "\n",
    "> Sage has many different components that may be useful for numerical analysis. In particular three packages deserve mention, they are numpy, SciPy, and cvxopt.\n",
    "> - **Numpy** is an excellent package that provides fast array facilities to python. It includes some basic linear algebra routines, vectorized math routines, random number generators, etc. It supports a programming style similar to one would use in matlab and most matlab techniques have an analogue in numpy.\n",
    "> - **SciPy** builds on numpy and provides many different packages for optimization, root finding, statistics, linear algebra, interpolation, FFT and dsp tools, etc."
   ]
  },
  {
   "cell_type": "code",
   "execution_count": 2,
   "metadata": {},
   "outputs": [],
   "source": [
    "# Packages that ship with SageMath\n",
    "# see https://doc.sagemath.org/html/en/reference/spkg/ for all packages\n",
    "# that come distributed with Sage\n",
    "from scipy.io import wavfile\n",
    "import numpy as np\n",
    "import matplotlib.pyplot as plt\n",
    "\n",
    "# Interact with Jupyter notebooks, e.g. show sliders\n",
    "# See https://doc.sagemath.org/html/en/reference/repl/sage/repl/ipython_kernel/interact.html\n",
    "# from sage.repl.ipython_kernel.interact import interact\n",
    "\n",
    "# Play audio samples in a Jupyter Notebook\n",
    "from IPython.display import Audio"
   ]
  },
  {
   "cell_type": "markdown",
   "metadata": {},
   "source": [
    "<hr>"
   ]
  },
  {
   "cell_type": "markdown",
   "metadata": {},
   "source": [
    "### **🌟 Intro: What is sound \\& some first experiments**"
   ]
  },
  {
   "cell_type": "markdown",
   "metadata": {},
   "source": [
    "We hear sounds every day - the chirping of birds, the rustling of leaves, music, people talking. Physically speaking, sound is a pressure wave that propagates through a medium like air. Variations in air pressure near our ears cause our eardrums to vibrate. Through some more processes, these vibrations are converted into electrical signals that are sent to our brain, which interprets these signals as sound. The frequency (number of variations per seconds) of these pressure waves determines the pitch of the sound we hear. The amplitude of the pressure wave determines the loudness of the sound. As an example, consider the following sine wave and experiment with its parameters to see how they affect the sound:"
   ]
  },
  {
   "cell_type": "markdown",
   "metadata": {},
   "source": [
    "$$\n",
    "\\boxed{\n",
    "    A: \\mathbb{R} \\rightarrow \\mathbb{R}, \\quad\n",
    "    t \\mapsto A(t) \\coloneqq A_0 \\cdot \\sin(2\\pi f \\cdot t + \\varphi)\n",
    "}\n",
    "$$\n",
    "\n",
    "$$\n",
    "A_0: \\text{Amplitude}, \\quad\n",
    "f: \\text{Frequency}, \\quad\n",
    "\\varphi: \\text{Phase}\n",
    "$$"
   ]
  },
  {
   "cell_type": "markdown",
   "metadata": {},
   "source": [
    "**Watch out for your ears when playing the sound!**"
   ]
  },
  {
   "cell_type": "code",
   "execution_count": 3,
   "metadata": {},
   "outputs": [],
   "source": [
    "# Don't worry about the sample rate yet, we'll cover what it is later\n",
    "# when we talk about discrete signals.\n",
    "SAMPLE_RATE = float(25000)  # sample rate (samples per second, Hz)\n",
    "T_sound = 1  # duration of sound (seconds)"
   ]
  },
  {
   "cell_type": "code",
   "execution_count": 4,
   "metadata": {},
   "outputs": [
    {
     "data": {
      "application/vnd.jupyter.widget-view+json": {
       "model_id": "cbd17ff48f154adbbae03d5ddc5b895f",
       "version_major": 2,
       "version_minor": 0
      },
      "text/plain": [
       "Interactive function <function sin_wave at 0x7f136e42e660> with 3 widgets\n",
       "  f: TransformIntSlider(value=440, description='f', max=1400)\n",
       "  phi: TransformFloatSlider(value=0.0, description='phi', max=6.283185307179586)\n",
       "  A_0: TransformFloatSlider(value=0.8, description='A_0', max=1.0)"
      ]
     },
     "metadata": {},
     "output_type": "display_data"
    }
   ],
   "source": [
    "@interact\n",
    "def sin_wave(f=slider(0, 1400, 1, default=440),\n",
    "        phi=slider(0,2*pi), A_0=slider(0,1,0.1, default=0.8)):\n",
    "\n",
    "    # Plot the sine wave (via SageMath)\n",
    "    A(t) = A_0 * np.sin(2*pi*f*t + phi)\n",
    "    show(plot(A(t), (t, 0, 0.06),\n",
    "            color=\"red\", thickness=1.5),\n",
    "            xmin=0, xmax=0.06, ymin=-1, ymax=1,\n",
    "            figsize=(10, 4), axes_labels=[\"t\", \"A(t)\"])\n",
    "\n",
    "    # Generate audio file\n",
    "    t_linspace = np.linspace(0, T_sound, int(T_sound*SAMPLE_RATE), endpoint=False)\n",
    "    wave = A_0 * np.sin(2*np.pi*f*t_linspace + phi)\n",
    "    display(Audio(wave, rate=SAMPLE_RATE, normalize=False))"
   ]
  },
  {
   "cell_type": "markdown",
   "metadata": {},
   "source": [
    "This sine wave describes the variations of air pressure, which forms the tone we hear. The bigger the frequency $f$, the higher the pitch. The bigger the amplitude $A_0$, the louder the sound.\n",
    "\n",
    "It's therefore reasonable to say that we can model sounds by functions. A sound with frequency $f$ is modeled by a trigonometric function of that frequency. We call $\\sin(2\\pi f t)$ the **pure tone** of frequency $f$."
   ]
  },
  {
   "cell_type": "markdown",
   "metadata": {},
   "source": [
    "<link rel=\"stylesheet\" href=\"./styles.css\">\n",
    "<div class=\"theorem\">\n",
    "\n",
    "<strong>Observation (Ryan, 1.1).\n",
    "Sound as mathematical function.</strong>\n",
    "\n",
    "A sound can be represented by a mathematical function, with time as the free variable.<br>When a *function* represents a sound, it is often referred to as a *continuous sound*.\n",
    "<br><br>\n",
    "</div>"
   ]
  },
  {
   "cell_type": "markdown",
   "metadata": {},
   "source": [
    "#### **Summing up multiple sine waves**"
   ]
  },
  {
   "cell_type": "markdown",
   "metadata": {},
   "source": [
    "An interesting idea might be to sum up multiple sine waves of different frequencies. We will sum them up pointwise, i.e. add up their respective values at each point in time. Let's experiment with two sine waves with the same amplitude, but different frequencies:"
   ]
  },
  {
   "cell_type": "code",
   "execution_count": 5,
   "metadata": {},
   "outputs": [
    {
     "data": {
      "application/vnd.jupyter.widget-view+json": {
       "model_id": "a84da4b227ab476dbc4c1e61eb3953a5",
       "version_major": 2,
       "version_minor": 0
      },
      "text/plain": [
       "Interactive function <function add_up_two_sin_waves at 0x7f13e8c5e840> with 2 widgets\n",
       "  f1: TransformIntSlider(value=540, description='f1', max=1000, min=400)\n",
       "  f2: TransformIntSlider(value=548, description='f2', max=1000, min=400)"
      ]
     },
     "metadata": {},
     "output_type": "display_data"
    }
   ],
   "source": [
    "@interact\n",
    "def add_up_two_sin_waves(\n",
    "    f1=slider(400, 1000, 1, default=540),\n",
    "    f2=slider(400, 1000, 1, default=548),\n",
    "):\n",
    "    def sound(t):\n",
    "        return np.sin(2 * np.pi * f1 * t) + np.sin(2 * np.pi * f2 * t)\n",
    "\n",
    "    # Plot square wave\n",
    "    t_for_plot = np.linspace(0, 0.04, 3000)\n",
    "    y = sound(t_for_plot)\n",
    "\n",
    "    plt.figure(figsize=(10, 4))\n",
    "    plt.plot(t_for_plot, y, color=\"red\", linewidth=1.5)\n",
    "    plt.xlabel(\"t\"); plt.ylabel(\"A(t)\")\n",
    "\n",
    "    # Generate audio file\n",
    "    T_sound = 2\n",
    "    t_for_audio = np.linspace(0, T_sound, int(T_sound * SAMPLE_RATE), endpoint=False)\n",
    "    wave = sound(t_for_audio)\n",
    "    display(Audio(wave, rate=SAMPLE_RATE))"
   ]
  },
  {
   "cell_type": "markdown",
   "metadata": {},
   "source": [
    "A more complex example is the following one. This series approximates a square wave by adding up many individual sine waves (pure tones). It might seem quite surprising that we can indeed approximate a rectangular-looking wave by adding up \"roundish\" sine waves. We even add up discrete frequencies, but the sum of them approximates a continuous function. Listen to how the sound changes when we add more and more pure tones with higher frequencies.\n",
    "$$\n",
    "\\begin{align*}\n",
    "A(t) &\\coloneqq \\sum_{n=0}^{N}\n",
    "\\frac{4}{(2n+1)\\pi} \\sin\\left(2\\pi (2n+1) \\frac{t}{T}\\right)\\\\\n",
    "\n",
    "&= \\frac{4}{\\pi} \\sin\\left(2\\pi \\cdot \\frac{t}{T}\\right)\n",
    "+ \\frac{4}{3\\pi} \\sin\\left(2\\pi \\cdot 3 \\frac{t}{T}\\right)\n",
    "+ \\frac{4}{5\\pi} \\sin\\left(2\\pi \\cdot 5\\frac{t}{T}\\right)\n",
    "+ \\frac{4}{7\\pi} \\sin\\left(2\\pi \\cdot 7 \\frac{t}{T}\\right)\n",
    "+ \\cdots \n",
    "\\end{align*}\n",
    "$$"
   ]
  },
  {
   "cell_type": "code",
   "execution_count": 6,
   "metadata": {},
   "outputs": [
    {
     "data": {
      "application/vnd.jupyter.widget-view+json": {
       "model_id": "7752647a10da46bda03eef4ecd701f36",
       "version_major": 2,
       "version_minor": 0
      },
      "text/plain": [
       "Interactive function <function square_wave at 0x7f136c77d940> with 1 widget\n",
       "  N: Dropdown(description='N', options=(2, 4, 6, 8, 10, 20, 40, 80, 180, 1000), value=2)"
      ]
     },
     "metadata": {},
     "output_type": "display_data"
    }
   ],
   "source": [
    "@interact\n",
    "def square_wave(N=[2, 4, 6, 8, 10, 20, 40, 80, 180, 1000]):\n",
    "    def sound(t):\n",
    "        T = 0.5  # period of square wave: 2\n",
    "        f = 300  # fixed frequency [Hz]\n",
    "        y = np.zeros(np.shape(t))\n",
    "        for n in range(1, N, 2):\n",
    "            y = y + 4 / (n * np.pi) * np.sin(2 * np.pi * f * n * t / T)\n",
    "        return y\n",
    "\n",
    "    # Plot square wave\n",
    "    t_for_plot = np.linspace(0, 0.005, 1000)\n",
    "    y = sound(t_for_plot)\n",
    "\n",
    "    plt.figure(figsize=(10, 4))\n",
    "    plt.plot(t_for_plot, y, color=\"red\", linewidth=1.5)\n",
    "    plt.xlabel(\"t\"); plt.ylabel(\"A(t)\")\n",
    "\n",
    "    # Generate audio file\n",
    "    t_for_audio = np.linspace(0, T_sound, int(T_sound * SAMPLE_RATE), endpoint=False)\n",
    "    wave = sound(t_for_audio)\n",
    "    display(Audio(wave, rate=SAMPLE_RATE))"
   ]
  },
  {
   "cell_type": "markdown",
   "metadata": {},
   "source": [
    "Using another formula involving cosine functions, we can also approximate a triangle function. Compared to the square function it's a lot more pleasant to listen to; the sound is less \"harsh\". But not as \"smooth\" as for the pure sine wave.\n",
    "\n",
    "$$\n",
    "\\begin{align*}\n",
    "A(t) &\\coloneqq \\sum_{n=0}^{N}\n",
    "\\frac{8}{(2n+1)^2\\pi^2} \\cos\\left(2\\pi (2n+1) \\frac{t}{T}\\right)\\\\\n",
    "&= - \\frac{8}{\\pi^2} \\cos\\left(2\\pi \\cdot \\frac{t}{T}\\right)\n",
    "- \\frac{8}{3^2\\pi^2} \\cos\\left(2\\pi \\cdot 3 \\frac{t}{T}\\right)\n",
    "- \\frac{8}{5^2\\pi^2} \\cos\\left(2\\pi \\cdot 5\\frac{t}{T}\\right)\n",
    "- \\frac{8}{7^2\\pi^2} \\cos\\left(2\\pi \\cdot 7 \\frac{t}{T}\\right)\n",
    "- \\cdots\n",
    "\\end{align*}\n",
    "$$"
   ]
  },
  {
   "cell_type": "code",
   "execution_count": 7,
   "metadata": {},
   "outputs": [
    {
     "data": {
      "application/vnd.jupyter.widget-view+json": {
       "model_id": "f5c3433b6fbf4a0cbb441a5860a214f0",
       "version_major": 2,
       "version_minor": 0
      },
      "text/plain": [
       "Interactive function <function triangle_wave at 0x7f13633f8220> with 1 widget\n",
       "  N: Dropdown(description='N', options=(2, 4, 6, 8, 10, 20, 40, 80, 180, 1000), value=2)"
      ]
     },
     "metadata": {},
     "output_type": "display_data"
    }
   ],
   "source": [
    "@interact\n",
    "def triangle_wave(N=[2, 4, 6, 8, 10, 20, 40, 80, 180, 1000]):\n",
    "    def sound(t):\n",
    "        T = 0.5  # period of square wave: 2\n",
    "        f = 440  # fixed frequency [Hz]\n",
    "        y = np.zeros(np.shape(t))\n",
    "        for n in range(1, N, 2):\n",
    "            y = y + (-8) / (n**2 * np.pi**2) * np.cos(2 * np.pi * f * n * t / T)\n",
    "        return y\n",
    "\n",
    "    # Plot square wave\n",
    "    t_for_plot = np.linspace(0, 0.005, 1000)\n",
    "    y = sound(t_for_plot)\n",
    "\n",
    "    plt.figure(figsize=(10, 4))\n",
    "    plt.plot(t_for_plot, y, color=\"red\", linewidth=1.5)\n",
    "    plt.xlabel(\"t\")\n",
    "    plt.ylabel(\"A(t)\")\n",
    "\n",
    "    # Generate audio file\n",
    "    t_for_audio = np.linspace(0, T_sound, int(T_sound * SAMPLE_RATE), endpoint=False)\n",
    "    wave = sound(t_for_audio)\n",
    "    display(Audio(wave, rate=SAMPLE_RATE))"
   ]
  },
  {
   "cell_type": "markdown",
   "metadata": {},
   "source": [
    "At this point, we might ask ourselves, whether we can construct any arbitrary sound by summing up pure tones (sine & cosine waves). Our observation or rather our hope is that we can *de*compose any arbitrary sound into a sum of pure tones. This would give us a powerful tool to analyze and manipulate sounds as we could directly work with the different frequencies represented in a sound."
   ]
  },
  {
   "cell_type": "markdown",
   "metadata": {},
   "source": [
    "<link rel=\"stylesheet\" href=\"./styles.css\">\n",
    "<div class=\"theorem\">\n",
    "\n",
    "<strong>A first hope (Ryan, 1.8).\n",
    "Decomposition of sound into pure tones.</strong>\n",
    "\n",
    "Any sound $f$ is a sum of pure tones at different frequencies. The amount of each frequency required to form $f$ is the *frequency content* of $f$. Any sound can be reconstructed from its frequency content.\n",
    "<br><br>\n",
    "</div>"
   ]
  },
  {
   "cell_type": "markdown",
   "metadata": {},
   "source": [
    "---"
   ]
  },
  {
   "cell_type": "markdown",
   "metadata": {},
   "source": [
    "### **🌟 Fourier series**"
   ]
  },
  {
   "cell_type": "markdown",
   "metadata": {},
   "source": [
    "We've seen that we can identify a sound with a function. Now, we will make our first hope more precise. Enter the **Fourier analysis**, which allows us to model sound as a sum of frequency components. That is, we want to **approximate functions with the help up trigonometric functions**."
   ]
  },
  {
   "cell_type": "markdown",
   "metadata": {},
   "source": [
    "#### **Periodicity**"
   ]
  },
  {
   "cell_type": "markdown",
   "metadata": {},
   "source": [
    "For the sake of simplicity, we will only consider periodic functions through this document."
   ]
  },
  {
   "cell_type": "markdown",
   "metadata": {},
   "source": [
    "<link rel=\"stylesheet\" href=\"./styles.css\">\n",
    "<div class=\"def\">\n",
    "\n",
    "<strong>Definition (Ryan, 1.5).\n",
    "Periodic functions.</strong>\n",
    "\n",
    "A function $f: \\mathbb{R} \\to \\mathbb{C}$ is *periodic* with period $T\\neq0$ if\n",
    "$$\n",
    "f(t) = f(t+T) \\quad \\forall t \\in \\mathbb{R}\n",
    "$$\n",
    "<br>\n",
    "</div>"
   ]
  },
  {
   "cell_type": "markdown",
   "metadata": {},
   "source": [
    "In other words: if we know $f$ for a single period, we know it for all times. This is a very strong property that will be exploited constantly in the following. Real-world sounds are aperiodic most of the time. However, we can think of such an aperiodic signal \"as the limit of a periodic signal as the period becomes arbitrarily large\" ~ [Alan V. Oppenheim et al. Signals and Systems, 2nd edition, p. 286](https://math.stackexchange.com/a/4851674/1083321). Don't worry about this too much, just accept we will only work with periodic functions for now. Let's dive into the theory."
   ]
  },
  {
   "cell_type": "markdown",
   "metadata": {},
   "source": [
    "#### **Continuous functions \\& inner product**"
   ]
  },
  {
   "cell_type": "markdown",
   "metadata": {},
   "source": [
    "Our goal is to approximate a periodic function $f: [0,T] \\to \\mathbb{C}$ by a linear combination of the trigonometric functions $\\sin$ and $\\cos$. The first question is: **How general do we allow $f$ to be?** We will demand our function $f$ to be continuous."
   ]
  },
  {
   "cell_type": "markdown",
   "metadata": {},
   "source": [
    "<link rel=\"stylesheet\" href=\"./styles.css\">\n",
    "<div class=\"def\">\n",
    "\n",
    "<strong>Definition (Ryan, 1.13).\n",
    "Continuous functions.</strong>\n",
    "\n",
    "The set of continuous functions defined on an interval $[0,T]$ is denoted $C[0,T]$.\n",
    "\n",
    "<!-- The function $f: [0,T] \\to \\mathbb{R}$ is said to be **square integrable** on $[0,T]$ if $f^2$ is Riemann-integrable,\n",
    "<br>i.e., if the Riemann integral of $f^2$ on $[0,T]$ exists:\n",
    "\n",
    "$$\n",
    "\\int_0^T \\bigl|f(t)\\bigr|^2 \\, \\text{d}t < \\infty\n",
    "$$\n",
    "\n",
    "The set of all square integrable functions on $[0,T]$ is denoted $L^2[0,T]$. -->\n",
    "\n",
    "<br>\n",
    "</div>"
   ]
  },
  {
   "cell_type": "markdown",
   "metadata": {},
   "source": [
    "In theory, we don't need the strong assumption $f \\in C[0,T]$. Instead, $f\\in L^2[0,T]$ (i.e. $f$ is square-integrable) would be sufficient. However, in practice, we will often work with continuous functions and for the sake of this seminar and to simplify the discussion, we will assume that $f \\in C[0,T]$.\n",
    "\n",
    "We can also define an inner product for the vector space $C[0,T]$:\n",
    "\n",
    "<!-- So when we write $f\\in L^2[0,T]$, we mean that $f$ is square integrable on the interval $[0,T]$. This is a very important property for the functions we will work with. It ensures that the functions we work with are \"well-behaved\" in some sense. We can also define an inner product on $L^2[0,T]$: -->"
   ]
  },
  {
   "cell_type": "markdown",
   "metadata": {},
   "source": [
    "<link rel=\"stylesheet\" href=\"./styles.css\">\n",
    "<div class=\"def\">\n",
    "\n",
    "<strong>Definition (Ryan, 1.14).\n",
    "Inner product.</strong>\n",
    "\n",
    "<!-- Both $L^2[0,T]$ and $C[0,T]$ are vector spaces.\n",
    "<br>If the two functions $f$ and $g$ lie in $L^2[0,T]$ (or in $C[0,T]$), then the product $fg$ is also in $L^2[0,T]$ (or in $C[0,T]$). -->\n",
    "\n",
    "<!-- Moreover, both spaces are inner product spaces, with inner product defined by -->\n",
    "\n",
    "The inner product for $C[0,T]$ is defined by:\n",
    "\n",
    "$$\n",
    "\\langle f,g \\rangle \\coloneqq \\frac{1}{T} \\int_0^T f(t) \\overline{g(t)} \\, \\text{d}t\n",
    "$$\n",
    "The associated norm is then given by:\n",
    "$$\n",
    "\\|f \\| \\coloneqq \\sqrt{\\langle f,f \\rangle} = \\sqrt{\\frac{1}{T} \\int_0^T \\bigl|f(t)\\bigr|^2 \\, \\text{d}t}\n",
    "$$\n",
    "\n",
    "<br>\n",
    "</div>"
   ]
  },
  {
   "cell_type": "markdown",
   "metadata": {},
   "source": [
    "Here, $\\overline{g(t)}$ is the complex conjugate of $g(t)$. The normalizing factor $\\frac{1}{T}$ is just needed to ensure the constant function $f(t) = 1$ has norm $1$."
   ]
  },
  {
   "cell_type": "markdown",
   "metadata": {},
   "source": [
    "#### **Basis \\& linear combination**"
   ]
  },
  {
   "cell_type": "markdown",
   "metadata": {},
   "source": [
    "So you might ask why we need the inner product. It plays a crucial role in the following. First, we define a basis $\\mathscr{F}_{N,T}$ for a subspace $V_{N,T} \\subset C[0,T]$ that is spanned by $2N+1$ pure tone functions."
   ]
  },
  {
   "cell_type": "markdown",
   "metadata": {},
   "source": [
    "<link rel=\"stylesheet\" href=\"./styles.css\">\n",
    "<div class=\"def\">\n",
    "\n",
    "<strong>Definition (Ryan, 1.15/1.22).\n",
    "Complex fourier basis.</strong>\n",
    "\n",
    "- We define the following set functions and call it the **Nth order complex Fourier basis** for $V_{N,T}$:\n",
    "\n",
    "$$\n",
    "\\mathscr{F}_{N,T} \\coloneqq \\{ \n",
    "    e^{-2\\pi i \\frac{N t}{T}},\n",
    "    e^{-2\\pi i \\frac{(N-1) t}{T}},\n",
    "    \\cdots,\n",
    "    e^{-2\\pi i \\frac{t}{T}},\n",
    "    1,\n",
    "    e^{2\\pi i \\frac{t}{T}},\n",
    "    \\cdots,\n",
    "    e^{2\\pi i \\frac{(N-1) t}{T}},\n",
    "    e^{2\\pi i \\frac{N t}{T}}\n",
    "\\}\n",
    "$$\n",
    "\n",
    "- $V_{N,T}$ is defined as the subspace of $C[0,T]$ spanned by the set of functions $\\mathscr{F}_{N,T}$.<br>$V_{N,T}$ is called the **Nth-order Fourier space**.\n",
    "\n",
    "- $f_N$ is defined as the best approximation of $f$ from $V_{N,T}$ with respect to the inner product defined above.<br>$f_N$ is called the **Nth-order Fourier series approximation of $f$**.\n",
    "\n",
    "<br>\n",
    "</div>"
   ]
  },
  {
   "cell_type": "markdown",
   "metadata": {},
   "source": [
    "- It's not difficult to see that the functions $e^{2\\pi i \\frac{nt}{T}}$ are orthonormal with respect to the inner product defined above.\n",
    "- $f_N$ is defined as the best approximation of $f$ from $V_{N,T}$ with respect to the inner product defined above.<br>What's a best approximation? Let's consult linear algebra:"
   ]
  },
  {
   "cell_type": "markdown",
   "metadata": {},
   "source": [
    "<link rel=\"stylesheet\" href=\"./styles.css\">\n",
    "<div class=\"theorem\">\n",
    "\n",
    "<strong>Theorem (Lay et al. Orthogonality \\& Least Squares, Theorem 9).\n",
    "Best approximation theorem.</strong>\n",
    "\n",
    "Let $W \\subseteq \\mathbb{R}^n$, let $y \\in \\mathbb{R}^n$, and let $\\hat{y}$ be the orthogonal projection of $y$ onto $W$.\n",
    "<br>Then $\\hat{y}$ is the closest point in $W$ to $y$, in the sense that\n",
    "\n",
    "$$\n",
    "\\| y - \\hat{y} \\| < \\| y - v \\| \\text{ for all } v \\in W \\text{ distinct from } \\hat{y}\n",
    "$$\n",
    "\n",
    "<br>\n",
    "</div>"
   ]
  },
  {
   "cell_type": "markdown",
   "metadata": {},
   "source": [
    "In our case, we don't consider $\\mathbb{R}^n$, but instead $C[0,T]$ with our norm associated to the inner product defined above."
   ]
  },
  {
   "cell_type": "markdown",
   "metadata": {},
   "source": [
    "Since $f_N$ lives in $V_{N,T}$ (which is spanned by the basis $\\mathscr{F}_{N,T}$ of pure tones), we can write $f_N$ as a linear combination of the basis functions (per definition of a basis):\n",
    "\n",
    "$$\n",
    "f_N(t) = \\sum_{n=-N}^{N} z_n \\cdot e^{2\\pi i \\frac{n t}{T}}\n",
    "$$\n",
    "\n",
    "The $e^{2\\pi i \\frac{n t}{T}}$ are the basis functions (pure tones) and the $z_n$ are the coefficients of the linear combination.<br>Let's visualize the current situation:"
   ]
  },
  {
   "cell_type": "markdown",
   "metadata": {},
   "source": [
    "![Fourier series](../images/orthogonal%20decomposition.png)"
   ]
  },
  {
   "cell_type": "markdown",
   "metadata": {},
   "source": [
    "The question is now: **How to calculate the coefficients $z_n$?** The following theorem gives an answer:"
   ]
  },
  {
   "cell_type": "markdown",
   "metadata": {},
   "source": [
    "<link rel=\"stylesheet\" href=\"./styles.css\">\n",
    "<div class=\"theorem\">\n",
    "\n",
    "<strong>Theorem (Ryan, 1.16/1.23).\n",
    "Fourier series coefficients.</strong>\n",
    "\n",
    "The set $\\mathscr{F}_{N,T}$ is an orthonormal basis for $V_{N,T}$. In particular, the dimension of $V_{N,T}$ is $2N+1$.\n",
    "<br>We denote by $z_{-N}, \\cdots, z_0, \\cdots, z_N$ the coordinates of $f_N$ in the basis $\\mathscr{F}_{N,T}$, i.e.\n",
    "\n",
    "$$\n",
    "f_N(t) = \\sum_{n=-N}^{N} z_n \\cdot e^{2\\pi i \\frac{n t}{T}}\n",
    "$$\n",
    "\n",
    "The $z_n$ are called the complex Fourier coefficients of $f$, and they are given by:\n",
    "\n",
    "$$\n",
    "z_n = \\langle f, e^{2\\pi i \\frac{n t}{T}} \\rangle\n",
    "= \\frac{1}{T} \\int_0^T f(t) \\cdot e^{-2\\pi i \\frac{n t}{T}} \\, \\text{d}t\n",
    "$$\n",
    "\n",
    "<br>\n",
    "</div>"
   ]
  },
  {
   "cell_type": "markdown",
   "metadata": {},
   "source": [
    "So where does the formula for the complex numbers $z_n$ come from? Well, that's the orthogonal decomposition theorem in action:"
   ]
  },
  {
   "cell_type": "markdown",
   "metadata": {},
   "source": [
    "<link rel=\"stylesheet\" href=\"./styles.css\">\n",
    "<div class=\"theorem\">\n",
    "\n",
    "<strong>Theorem (Lay et al. Orthogonality \\& Least Squares, Theorem 9).\n",
    "The Orthogonal Decomposition Theorem.</strong>\n",
    "\n",
    "Let $W$ be a subspace of $\\mathbb{R}^n$. Then each $y \\in \\mathbb{R}^n$ can be written uniquely in the form\n",
    "$$\n",
    "y = \\hat{y} + p \\quad \\text{ where } \\hat{y} \\in W \\text{ and } p\\in W^\\perp\n",
    "$$\n",
    "In fact, if $\\{u_1, \\cdots, u_p\\}$ is any orthogonal basis of $W$, then:\n",
    "$$\n",
    "\\hat{y} = \\frac{y\\cdot u_1}{u_1 \\cdot u_1} u_1 + \\cdots\n",
    "+ \\frac{y\\cdot u_p}{u_p \\cdot u_p} u_p\n",
    "$$\n",
    "and $p = y - \\hat{y}$.\n",
    "\n",
    "<br>\n",
    "</div>"
   ]
  },
  {
   "cell_type": "markdown",
   "metadata": {},
   "source": [
    "You might be familiar with this in the context of the Gram-Schmidt process. Here again, we don't consider the space $\\mathbb{R}^n$, but instead $C[0,T]$. In our case, $W$ is the subspace $V_{N,T}$ spanned by the basis $\\mathscr{F}_{N,T}$ of pure tones. The orthogonal projection $\\hat{y}$ of $f$ onto $V_{N,T}$ is the best approximation $f_N$ of $f$ from $V_{N,T}$. Instead of the dot product in $\\mathbb{R}^n$, we use the inner product defined above. For $u_i$ we use our pure tone basis functions $e^{2\\pi i n t / T}$. Making use of $\\langle e^{2\\pi i n t / T}, e^{2\\pi i n t / T} \\rangle = 1$ (orthonormal), we obtain:\n",
    "\n",
    "$$\n",
    "\\begin{align*}\n",
    "f_N(t) &= \\sum_{n=-N}^{N} \\frac{\\langle f, e^{2\\pi i n t / T}\\rangle}\n",
    "{\\langle e^{2\\pi i n t / T}, e^{2\\pi i n t / T} \\rangle} e^{2\\pi i n t / T}\n",
    "= \\sum_{n=-N}^{N} \\langle f, e^{2\\pi i n t / T}\\rangle e^{2\\pi i n t / T}\\\\\n",
    "&= \\sum_{n=-N}^{N}\n",
    "\\underbrace{\\left( \\frac{1}{T} \\int_0^T f(t) e^{-2\\pi i n t / T}\\right)}_{\\eqqcolon z_n}\n",
    "e^{2\\pi i n t / T}\n",
    "\\end{align*}\n",
    "$$"
   ]
  },
  {
   "cell_type": "markdown",
   "metadata": {},
   "source": [
    "This is the formula for the Fourier series coefficients $z_n$."
   ]
  },
  {
   "cell_type": "markdown",
   "metadata": {},
   "source": [
    "#### **Convergence**"
   ]
  },
  {
   "cell_type": "markdown",
   "metadata": {},
   "source": [
    "It's not trivial to find conditions for $f$ that guarantee the convergence of its Fourier series. We won't go into detail here. Instead, it's sufficient for us to know that when we choose $N$ large enough, \"any reasonable periodic function can be approximated arbitrarily well by its Nth-order Fourier series approximation\" ~ [Ryan, p. 15]. That is, we will assume the following to be true for the rest of this document (it's not true in general, but good enough for our choice of functions):\n",
    "\n",
    "$$\n",
    "\\lim_{N\\to \\infty} f_N(t) = f(t) \\quad \\forall t\\in \\mathbb{R}\n",
    "$$"
   ]
  },
  {
   "cell_type": "markdown",
   "metadata": {},
   "source": [
    "#### **Solve integral with SageMath**"
   ]
  },
  {
   "cell_type": "markdown",
   "metadata": {},
   "source": [
    "**TODO**"
   ]
  },
  {
   "cell_type": "code",
   "execution_count": 36,
   "metadata": {},
   "outputs": [
    {
     "data": {
      "application/vnd.jupyter.widget-view+json": {
       "model_id": "aee73f95bb0a46958f89414bf79710bc",
       "version_major": 2,
       "version_minor": 0
      },
      "text/plain": [
       "Interactive function <function show_frequency_content at 0x7f13588f87c0> with 1 widget\n",
       "  n: TransformIntSlider(value=1, description='n', max=20, min=-20)"
      ]
     },
     "metadata": {},
     "output_type": "display_data"
    },
    {
     "name": "stderr",
     "output_type": "stream",
     "text": [
      "Discontinuities at zeroes of sin(pi*sageVARt*880) were not checked\n"
     ]
    }
   ],
   "source": [
    "var(\"t\")\n",
    "f = 440  # frequency [Hz]\n",
    "T = 1/f\n",
    "# square wave: 1 for 0<=t<T/2, -1 for T/2<=t<T (and repeat every T)\n",
    "square_wave(t) = sgn(sin(2 * pi * t / T))\n",
    "\n",
    "\n",
    "def frequency_content(n):\n",
    "    pure_tone(t) = e^(-2 * pi * i * n * t / T)\n",
    "    to_integrate = square_wave(t) * pure_tone(t)\n",
    "    return 1/T * to_integrate.integral(t, a=0, b=T)\n",
    "\n",
    "\n",
    "@interact\n",
    "def show_frequency_content(n=slider(-20, 20, 1, default=1)):\n",
    "    amount = frequency_content(n)\n",
    "    magnitude = abs(amount)\n",
    "    print(f\"💫 How much is frequency {abs(n)}*{f}Hz = {n*f}Hz represented in signal: {magnitude}\")"
   ]
  },
  {
   "cell_type": "markdown",
   "metadata": {},
   "source": [
    "From Euler's formula, we know that $e^{ix} = \\cos(x) + i\\sin(x)$.\n",
    "<br>With this, it follows that the $\\sin$ can be expressed in terms of the exponential function:\n",
    "$$\n",
    "\\sin(t) = \\frac{1}{2i}\\left(e^{it} - e^{-it}\\right)\n",
    "$$"
   ]
  },
  {
   "cell_type": "markdown",
   "metadata": {},
   "source": [
    "**TODO: Why different with factor 2?**"
   ]
  },
  {
   "cell_type": "markdown",
   "metadata": {},
   "source": [
    "This is exactly how we found the coefficients above for the square wave and the triangle wave. For the square wave, we get:\n",
    "$$\n",
    "\\begin{align*}\n",
    "A(t) &\\coloneqq \\sum_{n=0}^{N}\n",
    "\\frac{4}{(2n+1)\\pi} \\sin\\left(2\\pi (2n+1) \\frac{t}{T}\\right)\\\\\n",
    "&= \\frac{4}{\\pi} \\sin\\left(2\\pi \\cdot \\frac{t}{T}\\right)\n",
    "+ \\frac{4}{3\\pi} \\sin\\left(2\\pi \\cdot 3 \\frac{t}{T}\\right)\n",
    "+ \\frac{4}{5\\pi} \\sin\\left(2\\pi \\cdot 5\\frac{t}{T}\\right)\n",
    "+ \\frac{4}{7\\pi} \\sin\\left(2\\pi \\cdot 7 \\frac{t}{T}\\right)\n",
    "+ \\cdots\\\\\n",
    "&= \\frac{2}{\\pi} \\left|e^{2\\pi i \\frac{t}{T}} - e^{-2\\pi i \\frac{t}{T}}\\right|\n",
    "+ \\frac{2}{3\\pi} \\left|e^{2\\pi i \\cdot 3 \\frac{t}{T}} - e^{-2\\pi i \\cdot 3 \\frac{t}{T}}\\right|\n",
    "+ \\frac{2}{5\\pi} \\left|e^{2\\pi i \\cdot 5 \\frac{t}{T}} - e^{-2\\pi i \\cdot 5 \\frac{t}{T}}\\right|\n",
    "+ \\frac{2}{7\\pi} \\left|e^{2\\pi i \\cdot 7 \\frac{t}{T}} - e^{-2\\pi i \\cdot 7 \\frac{t}{T}}\\right|\n",
    "+ \\cdots\n",
    "\\end{align*}\n",
    "$$"
   ]
  },
  {
   "cell_type": "markdown",
   "metadata": {},
   "source": [
    "**Frequency diagram**"
   ]
  },
  {
   "cell_type": "code",
   "execution_count": 55,
   "metadata": {},
   "outputs": [
    {
     "name": "stderr",
     "output_type": "stream",
     "text": [
      "Warning, integration of abs or sign assumes constant sign by intervals (correct if the argument is real):\n",
      "Check [sign(sin(pi*sageVARt*880))]\n",
      "Discontinuities at zeroes of sin(pi*sageVARt*880) were not checked\n",
      "Warning, integration of abs or sign assumes constant sign by intervals (correct if the argument is real):\n",
      "Check [sign(sin(pi*sageVARt*880))]\n",
      "Discontinuities at zeroes of sin(pi*sageVARt*880) were not checked\n",
      "Warning, integration of abs or sign assumes constant sign by intervals (correct if the argument is real):\n",
      "Check [sign(sin(pi*sageVARt*880))]\n",
      "Discontinuities at zeroes of sin(pi*sageVARt*880) were not checked\n",
      "Warning, integration of abs or sign assumes constant sign by intervals (correct if the argument is real):\n",
      "Check [sign(sin(pi*sageVARt*880))]\n",
      "Discontinuities at zeroes of sin(pi*sageVARt*880) were not checked\n",
      "Warning, integration of abs or sign assumes constant sign by intervals (correct if the argument is real):\n",
      "Check [sign(sin(pi*sageVARt*880))]\n",
      "Discontinuities at zeroes of sin(pi*sageVARt*880) were not checked\n",
      "Warning, integration of abs or sign assumes constant sign by intervals (correct if the argument is real):\n",
      "Check [sign(sin(pi*sageVARt*880))]\n",
      "Discontinuities at zeroes of sin(pi*sageVARt*880) were not checked\n",
      "Warning, integration of abs or sign assumes constant sign by intervals (correct if the argument is real):\n",
      "Check [sign(sin(pi*sageVARt*880))]\n",
      "Discontinuities at zeroes of sin(pi*sageVARt*880) were not checked\n",
      "Warning, integration of abs or sign assumes constant sign by intervals (correct if the argument is real):\n",
      "Check [sign(sin(pi*sageVARt*880))]\n",
      "Discontinuities at zeroes of sin(pi*sageVARt*880) were not checked\n",
      "Warning, integration of abs or sign assumes constant sign by intervals (correct if the argument is real):\n",
      "Check [sign(sin(pi*sageVARt*880))]\n",
      "Discontinuities at zeroes of sin(pi*sageVARt*880) were not checked\n",
      "Warning, integration of abs or sign assumes constant sign by intervals (correct if the argument is real):\n",
      "Check [sign(sin(pi*sageVARt*880))]\n",
      "Discontinuities at zeroes of sin(pi*sageVARt*880) were not checked\n",
      "Warning, integration of abs or sign assumes constant sign by intervals (correct if the argument is real):\n",
      "Check [sign(sin(pi*sageVARt*880))]\n",
      "Discontinuities at zeroes of sin(pi*sageVARt*880) were not checked\n",
      "Warning, integration of abs or sign assumes constant sign by intervals (correct if the argument is real):\n",
      "Check [sign(sin(pi*sageVARt*880))]\n",
      "Discontinuities at zeroes of sin(pi*sageVARt*880) were not checked\n",
      "Warning, integration of abs or sign assumes constant sign by intervals (correct if the argument is real):\n",
      "Check [sign(sin(pi*sageVARt*880))]\n",
      "Discontinuities at zeroes of sin(pi*sageVARt*880) were not checked\n",
      "Warning, integration of abs or sign assumes constant sign by intervals (correct if the argument is real):\n",
      "Check [sign(sin(pi*sageVARt*880))]\n",
      "Discontinuities at zeroes of sin(pi*sageVARt*880) were not checked\n",
      "Warning, integration of abs or sign assumes constant sign by intervals (correct if the argument is real):\n",
      "Check [sign(sin(pi*sageVARt*880))]\n",
      "Discontinuities at zeroes of sin(pi*sageVARt*880) were not checked\n",
      "Warning, integration of abs or sign assumes constant sign by intervals (correct if the argument is real):\n",
      "Check [sign(sin(pi*sageVARt*880))]\n",
      "Discontinuities at zeroes of sin(pi*sageVARt*880) were not checked\n",
      "Warning, integration of abs or sign assumes constant sign by intervals (correct if the argument is real):\n",
      "Check [sign(sin(pi*sageVARt*880))]\n",
      "Discontinuities at zeroes of sin(pi*sageVARt*880) were not checked\n",
      "Warning, integration of abs or sign assumes constant sign by intervals (correct if the argument is real):\n",
      "Check [sign(sin(pi*sageVARt*880))]\n",
      "Discontinuities at zeroes of sin(pi*sageVARt*880) were not checked\n",
      "Warning, integration of abs or sign assumes constant sign by intervals (correct if the argument is real):\n",
      "Check [sign(sin(pi*sageVARt*880))]\n",
      "Discontinuities at zeroes of sin(pi*sageVARt*880) were not checked\n",
      "Warning, integration of abs or sign assumes constant sign by intervals (correct if the argument is real):\n",
      "Check [sign(sin(pi*sageVARt*880))]\n",
      "Discontinuities at zeroes of sin(pi*sageVARt*880) were not checked\n",
      "Warning, integration of abs or sign assumes constant sign by intervals (correct if the argument is real):\n",
      "Check [sign(sin(pi*sageVARt*880))]\n",
      "Discontinuities at zeroes of sin(pi*sageVARt*880) were not checked\n",
      "Warning, integration of abs or sign assumes constant sign by intervals (correct if the argument is real):\n",
      "Check [sign(sin(pi*sageVARt*880))]\n",
      "Discontinuities at zeroes of sin(pi*sageVARt*880) were not checked\n",
      "Warning, integration of abs or sign assumes constant sign by intervals (correct if the argument is real):\n",
      "Check [sign(sin(pi*sageVARt*880))]\n",
      "Discontinuities at zeroes of sin(pi*sageVARt*880) were not checked\n",
      "Warning, integration of abs or sign assumes constant sign by intervals (correct if the argument is real):\n",
      "Check [sign(sin(pi*sageVARt*880))]\n",
      "Discontinuities at zeroes of sin(pi*sageVARt*880) were not checked\n",
      "Warning, integration of abs or sign assumes constant sign by intervals (correct if the argument is real):\n",
      "Check [sign(sin(pi*sageVARt*880))]\n",
      "Discontinuities at zeroes of sin(pi*sageVARt*880) were not checked\n",
      "Warning, integration of abs or sign assumes constant sign by intervals (correct if the argument is real):\n",
      "Check [sign(sin(pi*sageVARt*880))]\n",
      "Discontinuities at zeroes of sin(pi*sageVARt*880) were not checked\n",
      "Warning, integration of abs or sign assumes constant sign by intervals (correct if the argument is real):\n",
      "Check [sign(sin(pi*sageVARt*880))]\n",
      "Discontinuities at zeroes of sin(pi*sageVARt*880) were not checked\n",
      "Warning, integration of abs or sign assumes constant sign by intervals (correct if the argument is real):\n",
      "Check [sign(sin(pi*sageVARt*880))]\n",
      "Discontinuities at zeroes of sin(pi*sageVARt*880) were not checked\n",
      "Warning, integration of abs or sign assumes constant sign by intervals (correct if the argument is real):\n",
      "Check [sign(sin(pi*sageVARt*880))]\n",
      "Discontinuities at zeroes of sin(pi*sageVARt*880) were not checked\n",
      "Warning, integration of abs or sign assumes constant sign by intervals (correct if the argument is real):\n",
      "Check [sign(sin(pi*sageVARt*880))]\n",
      "Discontinuities at zeroes of sin(pi*sageVARt*880) were not checked\n",
      "Warning, integration of abs or sign assumes constant sign by intervals (correct if the argument is real):\n",
      "Check [sign(sin(pi*sageVARt*880))]\n",
      "Discontinuities at zeroes of sin(pi*sageVARt*880) were not checked\n",
      "Warning, integration of abs or sign assumes constant sign by intervals (correct if the argument is real):\n",
      "Check [sign(sin(pi*sageVARt*880))]\n",
      "Discontinuities at zeroes of sin(pi*sageVARt*880) were not checked\n",
      "Warning, integration of abs or sign assumes constant sign by intervals (correct if the argument is real):\n",
      "Check [sign(sin(pi*sageVARt*880))]\n",
      "Discontinuities at zeroes of sin(pi*sageVARt*880) were not checked\n",
      "Warning, integration of abs or sign assumes constant sign by intervals (correct if the argument is real):\n",
      "Check [sign(sin(pi*sageVARt*880))]\n",
      "Discontinuities at zeroes of sin(pi*sageVARt*880) were not checked\n",
      "Warning, integration of abs or sign assumes constant sign by intervals (correct if the argument is real):\n",
      "Check [sign(sin(pi*sageVARt*880))]\n",
      "Discontinuities at zeroes of sin(pi*sageVARt*880) were not checked\n",
      "Warning, integration of abs or sign assumes constant sign by intervals (correct if the argument is real):\n",
      "Check [sign(sin(pi*sageVARt*880))]\n",
      "Discontinuities at zeroes of sin(pi*sageVARt*880) were not checked\n",
      "Warning, integration of abs or sign assumes constant sign by intervals (correct if the argument is real):\n",
      "Check [sign(sin(pi*sageVARt*880))]\n",
      "Discontinuities at zeroes of sin(pi*sageVARt*880) were not checked\n",
      "Warning, integration of abs or sign assumes constant sign by intervals (correct if the argument is real):\n",
      "Check [sign(sin(pi*sageVARt*880))]\n",
      "Discontinuities at zeroes of sin(pi*sageVARt*880) were not checked\n",
      "Warning, integration of abs or sign assumes constant sign by intervals (correct if the argument is real):\n",
      "Check [sign(sin(pi*sageVARt*880))]\n",
      "Discontinuities at zeroes of sin(pi*sageVARt*880) were not checked\n",
      "Warning, integration of abs or sign assumes constant sign by intervals (correct if the argument is real):\n",
      "Check [sign(sin(pi*sageVARt*880))]\n",
      "Discontinuities at zeroes of sin(pi*sageVARt*880) were not checked\n"
     ]
    }
   ],
   "source": [
    "N = 20\n",
    "frequencies = range(-N, N + 1)\n",
    "amplitudes = [float(abs(frequency_content(n))) if n != 0 else float(0.0) for n in frequencies]"
   ]
  },
  {
   "cell_type": "code",
   "execution_count": 56,
   "metadata": {},
   "outputs": [
    {
     "data": {
      "image/png": "[encoded data removed]",
      "text/plain": [
       "<Figure size 1000x400 with 1 Axes>"
      ]
     },
     "metadata": {},
     "output_type": "display_data"
    }
   ],
   "source": [
    "# Plot the frequency amplitude spectrum (discrete)\n",
    "plt.figure(figsize=(10, 4))\n",
    "plt.stem(frequencies, amplitudes, basefmt=\" \")\n",
    "plt.xlabel(\"Frequency [Hz]\")\n",
    "plt.ylabel(\"Magnitude\")\n",
    "plt.title(\"Frequency Amplitude Spectrum\")\n",
    "plt.show()"
   ]
  },
  {
   "cell_type": "markdown",
   "metadata": {},
   "source": [
    "---"
   ]
  },
  {
   "cell_type": "markdown",
   "metadata": {},
   "source": [
    "### **🌟 Discrete Fourier Transform (DFT)**"
   ]
  },
  {
   "cell_type": "markdown",
   "metadata": {},
   "source": [
    "TODO"
   ]
  },
  {
   "cell_type": "markdown",
   "metadata": {},
   "source": [
    "---\n",
    "\n",
    "---\n",
    "\n",
    "---"
   ]
  },
  {
   "cell_type": "markdown",
   "metadata": {},
   "source": [
    "<hr>\n",
    "\n",
    "**TODO: Work more intensely on the following sections.**\n",
    "\n",
    "<hr>"
   ]
  },
  {
   "cell_type": "markdown",
   "metadata": {},
   "source": [
    "---\n",
    "\n",
    "---\n",
    "\n",
    "---"
   ]
  },
  {
   "cell_type": "markdown",
   "metadata": {},
   "source": [
    "> Fourier series represent signals by their frequency content. "
   ]
  },
  {
   "cell_type": "markdown",
   "metadata": {},
   "source": [
    "> If the function was periodic we\n",
    "could define its Fourier series, which can be thought of as an approximation scheme\n",
    "for periodic functions using finite-dimensional spaces of trigonometric functions.\n",
    "\n",
    "> we also defined analog filters, which were operations which operate on continuous sound, without any assumption on periodicity. "
   ]
  },
  {
   "cell_type": "markdown",
   "metadata": {},
   "source": [
    "**Aperiodic signals & Fourier transform vs. Fourier series**"
   ]
  },
  {
   "cell_type": "markdown",
   "metadata": {},
   "source": [
    "We can \"think of an aperiodic signal as the limit of a periodic signal as the period becomes arbitrarily large [...]\"\n",
    "~ [Alan V. Oppenheim et al. Signals and Systems, 2nd edition, p. 286](https://math.stackexchange.com/a/4851674/1083321)"
   ]
  },
  {
   "cell_type": "markdown",
   "metadata": {},
   "source": [
    "We \"represent a signal as linear combination of complex exponentials\". For periodic signals, these complex exponentials [...] occur at a discrete set of harmonically related frequencies [...]. For aperiodic signals, the complex exponentials occur at a continuous at a continuum of frequencies.\n",
    "~ [Alan V. Oppenheim et al. Signals and Systems, 2nd edition, p. 286](https://math.stackexchange.com/a/4851674/1083321)"
   ]
  },
  {
   "cell_type": "markdown",
   "metadata": {},
   "source": [
    "> It can be shown that the Fourier series coefficients of a periodic function are sampled values of the Fourier transform of one period of the function. ~ [Stack Overflow](https://math.stackexchange.com/a/221253/1083321)"
   ]
  },
  {
   "cell_type": "markdown",
   "metadata": {},
   "source": [
    "> The focus in Discrete Fourier analysis is to change coordinates from standard basis to the Fourier basis, performing some operations on this \"Fourier representation\", and then change coordinates back to the standard basis. [Ryan, p. 51]"
   ]
  },
  {
   "cell_type": "markdown",
   "metadata": {},
   "source": [
    "### **Discrete Fourier Transform (DFT)**\n",
    "\n",
    "Importing important libarys and implementing DFT function "
   ]
  },
  {
   "cell_type": "code",
   "execution_count": null,
   "metadata": {},
   "outputs": [],
   "source": [
    "def dft(x):\n",
    "    N = len(x)\n",
    "    n = np.arange(N)\n",
    "    k = n.reshape((N, 1))\n",
    "    e = np.exp(-2j * np.pi * k * n / N)\n",
    "\n",
    "    X = np.dot(e, x)\n",
    "\n",
    "    return X"
   ]
  },
  {
   "cell_type": "markdown",
   "metadata": {},
   "source": [
    "Importing .wav-file and printing length of the vector and sample rate\n",
    "\n",
    "Vector containing air pressure differences at different (discrete) time steps\n",
    "Sample rate says how many samples per second the .wav-file contains (normally 44100)"
   ]
  },
  {
   "cell_type": "code",
   "execution_count": null,
   "metadata": {},
   "outputs": [],
   "source": [
    "sample_rate, wav_data = wavfile.read(\"../data/sounds/sin02.wav\")\n",
    "print(len(wav_data))\n",
    "print(wav_data)\n",
    "print(sample_rate)"
   ]
  },
  {
   "cell_type": "markdown",
   "metadata": {},
   "source": [
    "### **Fourier transformation**\n",
    "\n",
    "performing DFT on wav-Vector. \n",
    "dft_result contains \"frequencies\" ( = periodic functions with given frequency) and quantity of frequence in measured signal"
   ]
  },
  {
   "cell_type": "code",
   "execution_count": null,
   "metadata": {},
   "outputs": [],
   "source": [
    "dft_result = np.fft.fft(wav_data)\n",
    "print(dft_result)\n",
    "n = len(dft_result)\n",
    "n"
   ]
  },
  {
   "cell_type": "markdown",
   "metadata": {},
   "source": [
    "Determine occuring frequencies"
   ]
  },
  {
   "cell_type": "code",
   "execution_count": null,
   "metadata": {},
   "outputs": [],
   "source": [
    "n = len(wav_data)\n",
    "print(n)\n",
    "freqs = np.fft.fftfreq(n)\n",
    "print(freqs)"
   ]
  },
  {
   "cell_type": "markdown",
   "metadata": {},
   "source": [
    "### **Plot**\n",
    "\n",
    "Creating plot with amplitude of frequencies"
   ]
  },
  {
   "cell_type": "code",
   "execution_count": null,
   "metadata": {},
   "outputs": [],
   "source": [
    "plt.figure(figsize=(10, 6))\n",
    "plt.plot(freqs, np.real(dft_result))  # Nur die positive Frequenzhälfte\n",
    "plt.title(\"Fouriertransformierte des WAV-Vektors\")\n",
    "plt.xlabel(\"Frequenz (Hz)\")\n",
    "plt.ylabel(\"Amplitude\")\n",
    "plt.grid(True)\n",
    "plt.show()"
   ]
  },
  {
   "cell_type": "markdown",
   "metadata": {},
   "source": [
    "### **Inverse Discrete Fourier Transform (IDFT)**\n"
   ]
  },
  {
   "cell_type": "code",
   "execution_count": null,
   "metadata": {},
   "outputs": [],
   "source": [
    "def idft(x):\n",
    "    N = len(x)\n",
    "    n = np.arange(N)\n",
    "    k = n.reshape((N, 1))\n",
    "    e = np.exp(2j * np.pi * k * n / N)\n",
    "\n",
    "    X = np.dot(e, x)\n",
    "\n",
    "    return (1/N)*X"
   ]
  },
  {
   "cell_type": "code",
   "execution_count": null,
   "metadata": {},
   "outputs": [],
   "source": [
    "idft_result = idft(dft_result)\n",
    "len(idft_result)\n",
    "idft_result"
   ]
  },
  {
   "cell_type": "markdown",
   "metadata": {},
   "source": [
    "### **Fix rounding issues**"
   ]
  },
  {
   "cell_type": "code",
   "execution_count": null,
   "metadata": {},
   "outputs": [],
   "source": [
    "idft_rounded = np.around(idft_result, 6)  # 6 -> ok, 7 -> not ok\n",
    "\n",
    "if np.array_equal(wav_data, idft_rounded):\n",
    "    print(\"ok\")\n",
    "else:\n",
    "    print(\"not ok\")"
   ]
  },
  {
   "cell_type": "markdown",
   "metadata": {},
   "source": [
    "### **`.wav` output**"
   ]
  },
  {
   "cell_type": "code",
   "execution_count": null,
   "metadata": {},
   "outputs": [],
   "source": [
    "wavfile.write(\"../data/sounds/output.wav\", 44100, idft_rounded)"
   ]
  }
 ],
 "metadata": {
  "kernelspec": {
   "display_name": "SageMath 10.2",
   "language": "sage",
   "name": "sagemath"
  },
  "language_info": {
   "codemirror_mode": {
    "name": "ipython",
    "version": 3
   },
   "file_extension": ".py",
   "mimetype": "text/x-python",
   "name": "python",
   "nbconvert_exporter": "python",
   "pygments_lexer": "ipython3",
   "version": "3.11.8"
  }
 },
 "nbformat": 4,
 "nbformat_minor": 2
}
