{
 "cells": [
  {
   "cell_type": "markdown",
   "metadata": {},
   "source": [
    "<div style='padding:0.2em; margin:0em;\n",
    "  background-color:#FBAAAA; color:#521919;\n",
    "  border-left: solid #521919 4px; border-radius: 4px;'>\n",
    "\n",
    "<p style='margin:1em; text-align:center'>\n",
    "  <b>⚠ This notebook is under construction</b>\n",
    "</p>\n",
    "\n",
    "<p style='margin:1em;'>\n",
    "This document is currently being worked on and is far from being complete / ready to use. And don't worry, there will be more Sage-related code in the end.\n",
    "</p>\n",
    "\n",
    "</div>"
   ]
  },
  {
   "cell_type": "markdown",
   "metadata": {},
   "source": [
    "# **Fourier Transform in SageMath**\n",
    "**_A project by Felix Lentze & Dominic Plein ([@Splience](https://youtube.com/@splience))_**"
   ]
  },
  {
   "cell_type": "markdown",
   "metadata": {},
   "source": [
    "In this project, we will discuss what sound is, how to represent it mathematically & in a computer, and how to examine its frequency content using the Fourier Transform. The latter will be implemented in SageMath, a free open-source computer algebra system as superset of Python which bundles many great libraries like numpy, scipy, matplotlib, and more. With the help of filter matrices, the frequency spectrum of a sound can be manipulated. This is demonstrated with some sample sounds.\n",
    "\n",
    "This projected is intended for educational purposes, i.e. we don't focus on performance of our code (for that, see the FFT algorithm implemented in system-level languages like Rust or C++). Basic knowledge of linear algebra as well as Python are required. The key points are explained next to the code. The reader is encouraged to experiment with the code and the provided sound samples.\n",
    "\n",
    "Throughout your journey of exploring the amazing world of Fourier in this notebook, you might want to have the amazing book [Linear algebra, signal proceessing, and wavelets. A unified approach.](https://www.uio.no/studier/emner/matnat/math/nedlagte-emner/MAT-INF2360/v15/kompendium/) by Øyvind Ryan open next to you. When we reference a theorem/definition from this book, we refer to the January 21, 2015 Python edition."
   ]
  },
  {
   "cell_type": "markdown",
   "metadata": {},
   "source": [
    "<hr>"
   ]
  },
  {
   "cell_type": "markdown",
   "metadata": {},
   "source": [
    "### **Preface: SageMath vs. Python?**"
   ]
  },
  {
   "cell_type": "markdown",
   "metadata": {},
   "source": [
    "In the seminar, it might have come across as if Sage was a totally different programming language than Python. In fact, on the [SageMath website](https://www.sagemath.org/library-press.html), we find this:\n",
    "\n",
    "> Leverages Existing Software: SageMath does not reinvent the wheel for every known calculation. When possible, it uses existing tools to solve the problem and combine all of them in one unique interface. This concept not only exposes software packages to a wider audience, but also helps to increase the quality by submitting bugs upstream.\n",
    "\n",
    "> SageMath uses Python as its \"glue language\" to interface with all its components. Python is also SageMath's primary interface language and hence SageMath does not invent a new programming language as other mathematical software systems do. Python is well established among research communities and makes interfacing even less complicated.\n",
    "\n",
    "So, SageMath uses Python as \"glue language\". In fact, it provides a unified Python interface to many great libraries in the scientific community, among other: `numpy`, `scipy`, `matplotlib`, `Maxima`, `BLAS` etc. (see also [here](https://doc.sagemath.org/html/en/faq/faq-general.html#why-did-you-write-sage-from-scratch-instead-of-using-other-existing-software-and-or-libraries)).\n",
    "\n",
    "But then, you might wonder why you can write something like this:\n",
    "\n",
    "```python\n",
    "f(x) = x^2\n",
    "```\n",
    "\n",
    "This is not valid python syntax. You cannot name a variable f(x) in Python and to raise a number to a power, you use `**` instead of `^`. In SageMath, however, you can do this. This is because SageMath is a superset of Python, i.e. it extends the syntax of Python with some niceties like this one to make your life easier. Technically, Sage includes a [preparsing](https://doc.sagemath.org/html/en/developer/coding_in_python.html#sage-preparsing) step to convert the special syntax to valid Python code. If you want to dive deeper, [this is the Python method](https://github.com/sagemath/sage/blob/ffbbea9cb2360340f1c5517b590883fdaf02575c/src/sage/repl/preparse.py#L1382) responsible to parse statements like the one above."
   ]
  },
  {
   "cell_type": "code",
   "execution_count": 1,
   "metadata": {},
   "outputs": [
    {
     "name": "stdout",
     "output_type": "stream",
     "text": [
      "Via SageMath syntax: 25\n",
      "Directly via Python (this is what SageMath does under the hood): 25\n"
     ]
    }
   ],
   "source": [
    "# Only possible in Sage (but just syntactic sugar)\n",
    "f(x) = x^2\n",
    "print(f\"Via SageMath syntax: {f(5)}\")\n",
    "\n",
    "# Sage will convert the above snippet to the following code internally.\n",
    "# You can find this out by executing `preparse(\"f(x) = x^2\")`.\n",
    "__tmp__ = var(\"x\");\n",
    "f = symbolic_expression(x^Integer(2)).function(x)\n",
    "print(f\"Directly via Python (this is what SageMath does under the hood): {f(5)}\")"
   ]
  },
  {
   "cell_type": "markdown",
   "metadata": {},
   "source": [
    "**SageMath is a superset of Python. Therefore, every Python code you write is also SageMath code by definition (but not the other way around as seen in the example)**. Sage bundles many great open-source libraries and provides a unified interface to them."
   ]
  },
  {
   "cell_type": "markdown",
   "metadata": {},
   "source": [
    "### **Import packages**"
   ]
  },
  {
   "cell_type": "markdown",
   "metadata": {},
   "source": [
    "From the [Sage documentation](https://doc.sagemath.org/html/en/thematic_tutorials/numerical_sage/numerical_tools.html): <small>(highlights & line breaks by us)</small>\n",
    "\n",
    "> Sage has many different components that may be useful for numerical analysis. In particular three packages deserve mention, they are numpy, SciPy, and cvxopt.\n",
    "> - **Numpy** is an excellent package that provides fast array facilities to python. It includes some basic linear algebra routines, vectorized math routines, random number generators, etc. It supports a programming style similar to one would use in matlab and most matlab techniques have an analogue in numpy.\n",
    "> - **SciPy** builds on numpy and provides many different packages for optimization, root finding, statistics, linear algebra, interpolation, FFT and dsp tools, etc."
   ]
  },
  {
   "cell_type": "code",
   "execution_count": 2,
   "metadata": {},
   "outputs": [],
   "source": [
    "# Packages that ship with SageMath\n",
    "# see https://doc.sagemath.org/html/en/reference/spkg/ for all packages\n",
    "# that come distributed with Sage\n",
    "from scipy.io import wavfile\n",
    "import numpy as np\n",
    "import matplotlib.pyplot as plt\n",
    "\n",
    "# Interact with Jupyter notebooks, e.g. show sliders\n",
    "# See https://doc.sagemath.org/html/en/reference/repl/sage/repl/ipython_kernel/interact.html\n",
    "from sage.repl.ipython_kernel.interact import interact\n",
    "\n",
    "# Play audio samples in a Jupyter Notebook\n",
    "from IPython.display import Audio"
   ]
  },
  {
   "cell_type": "markdown",
   "metadata": {},
   "source": [
    "<hr>"
   ]
  },
  {
   "cell_type": "markdown",
   "metadata": {},
   "source": [
    "### **Intro: What is sound really?**"
   ]
  },
  {
   "cell_type": "markdown",
   "metadata": {},
   "source": [
    "We hear sounds every day - the chirping of birds, the rustling of leaves, music, people talking. Physically speaking, sound is a pressure wave that propagates through a medium like air. Variations in air pressure near our ears cause our eardrums to vibrate. Through some more processes, these vibrations are converted into electrical signals that are sent to our brain, which interprets these signals as sound. The frequency (number of variations per seconds) of these pressure waves determines the pitch of the sound we hear. The amplitude of the pressure wave determines the loudness of the sound. As an example, consider the following sine wave and experiment with its parameters to see how they affect the sound:"
   ]
  },
  {
   "cell_type": "markdown",
   "metadata": {},
   "source": [
    "$$\n",
    "\\boxed{\n",
    "    A: \\mathbb{R} \\rightarrow \\mathbb{R}, \\quad\n",
    "    t \\mapsto A(t) \\coloneqq A_0 \\cdot \\sin(2\\pi f \\cdot t + \\varphi)\n",
    "}\n",
    "$$\n",
    "\n",
    "$$\n",
    "A_0: \\text{Amplitude}, \\quad\n",
    "f: \\text{Frequency}, \\quad\n",
    "\\varphi: \\text{Phase}\n",
    "$$"
   ]
  },
  {
   "cell_type": "markdown",
   "metadata": {},
   "source": [
    "**Watch out for your ears when playing the sound!**"
   ]
  },
  {
   "cell_type": "code",
   "execution_count": 3,
   "metadata": {},
   "outputs": [],
   "source": [
    "# Don't worry about the sample rate yet, we'll cover what it is later\n",
    "# when we talk about discrete signals.\n",
    "SAMPLE_RATE = float(41400)  # sample rate (samples per second, Hz)\n",
    "T_sound = 1  # duration of sound (seconds)"
   ]
  },
  {
   "cell_type": "code",
   "execution_count": 4,
   "metadata": {},
   "outputs": [
    {
     "data": {
      "application/vnd.jupyter.widget-view+json": {
       "model_id": "7d99f796ddaa4277bad33d69de09483e",
       "version_major": 2,
       "version_minor": 0
      },
      "text/plain": [
       "Interactive function <function sin_wave at 0x7efe11a22660> with 3 widgets\n",
       "  f: TransformIntSlider(value=440, description='f', max=1400)\n",
       "  phi: TransformFloatSlider(value=0.0, description='phi', max=6.283185307179586)\n",
       "  A_0: TransformFloatSlider(value=0.8, description='A_0', max=1.0)"
      ]
     },
     "metadata": {},
     "output_type": "display_data"
    }
   ],
   "source": [
    "@interact\n",
    "def sin_wave(f=slider(0, 1400, 1, default=440),\n",
    "        phi=slider(0,2*pi), A_0=slider(0,1,0.1, default=0.8)):\n",
    "\n",
    "    # Plot the sine wave\n",
    "    A(t) = A_0 * sin(2*pi*f*t + phi)\n",
    "    show(plot(A(t), (t, 0, 0.06),\n",
    "            color=\"red\", thickness=1.5),\n",
    "            xmin=0, xmax=0.06, ymin=-1, ymax=1,\n",
    "            figsize=(10, 4), axes_labels=[\"t\", \"A(t)\"])\n",
    "\n",
    "    # Generate audio file\n",
    "    t_linspace = np.linspace(0, T_sound, int(T_sound*SAMPLE_RATE), endpoint=False)\n",
    "    wave = A_0 * np.sin(2*np.pi*f*t_linspace + phi)\n",
    "    display(Audio(wave, rate=SAMPLE_RATE, normalize=False))"
   ]
  },
  {
   "cell_type": "markdown",
   "metadata": {},
   "source": [
    "This sine wave describes the variations of air pressure, which forms the tone we hear. The bigger the frequency $f$, the higher the pitch. The bigger the amplitude $A_0$, the louder the sound.\n",
    "\n",
    "It's therefore reasonable to say that we can model sounds by functions. A sound with frequency $f$ is modeled by a trigonometric function of that frequency. We call $\\sin(2\\pi f t)$ the **pure tone** of frequency $f$."
   ]
  },
  {
   "cell_type": "markdown",
   "metadata": {},
   "source": [
    "<link rel=\"stylesheet\" href=\"./styles.css\">\n",
    "<div class=\"def\">\n",
    "\n",
    "<strong>Observation (Ryan, 1.1).\n",
    "Sound as mathematical function.</strong>\n",
    "\n",
    "A sound can be represented by a mathematical function, with time as the free variable.<br>When a *function* represents a sound, it is often referred to as a *continuous sound*.\n",
    "<br><br>\n",
    "</div>"
   ]
  },
  {
   "cell_type": "markdown",
   "metadata": {},
   "source": [
    "#### **Summing up multiple sine waves**"
   ]
  },
  {
   "cell_type": "markdown",
   "metadata": {},
   "source": [
    "An interesting idea might be to sum up multiple sine waves of different frequencies. We will sum them up pointwise, i.e. add up their respective values at each point in time. For example, consider the following function:\n",
    "\n",
    "$$\n",
    "\\begin{align*}\n",
    "A(t) &\\coloneqq \\sum_{n=0}^{N}\n",
    "\\frac{4}{(2n+1)\\pi} \\sin\\left(2\\pi (2n+1) \\frac{t}{T}\\right)\\\\\n",
    "\n",
    "&= \\frac{4}{\\pi} \\sin\\left(2\\pi \\cdot \\frac{t}{T}\\right)\n",
    "+ \\frac{4}{3\\pi} \\sin\\left(2\\pi \\cdot 3 \\frac{t}{T}\\right)\n",
    "+ \\frac{4}{5\\pi} \\sin\\left(2\\pi \\cdot 5\\frac{t}{T}\\right)\n",
    "+ \\frac{4}{7\\pi} \\sin\\left(2\\pi \\cdot 7 \\frac{t}{T}\\right)\n",
    "+ \\cdots \n",
    "\\end{align*}\n",
    "$$"
   ]
  },
  {
   "cell_type": "code",
   "execution_count": null,
   "metadata": {},
   "outputs": [],
   "source": [
    "@interact\n",
    "def square_wave(N=slider(2, 12, 2, default=2), auto_update=False):\n",
    "\n",
    "    # Construct square wave\n",
    "    T = 0.5  # period of square wave: 2\n",
    "    t = np.linspace(0, T, 500)  # period of square wave: 2\n",
    "    y = np.zeros(np.shape(t))\n",
    "    for n in range(1, N, 2):\n",
    "        y = y + 4 / (n * pi) * np.sin(2 * pi * 500 * n * t / T)\n",
    "\n",
    "    # Plot square wave\n",
    "    plt.figure(figsize=(10, 4))\n",
    "    plt.plot(t, y, color=\"red\", linewidth=1.5)\n",
    "    plt.xlabel(\"t\")\n",
    "    plt.ylabel(\"A(t)\")\n",
    "\n",
    "    # Generate audio file\n",
    "    # SAMPLE_RATE = float(41)  # sample rate (samples per second, Hz)\n",
    "    t_linspace = np.linspace(0, T_sound, int(T_sound * SAMPLE_RATE), endpoint=False)\n",
    "    wave = np.zeros(np.shape(t_linspace))\n",
    "    for n in range(1, N, 2):\n",
    "        wave = wave + 4 / (n * pi) * np.sin(2 * pi * 500 * n * t_linspace / T_sound)\n",
    "    display(Audio(wave, rate=SAMPLE_RATE))"
   ]
  },
  {
   "cell_type": "markdown",
   "metadata": {},
   "source": [
    "We observe that any reasonable function (whatever that means...) can be written as sum of simple sin- and cos- functions with integer frequencies."
   ]
  },
  {
   "cell_type": "markdown",
   "metadata": {},
   "source": [
    "<link rel=\"stylesheet\" href=\"./styles.css\">\n",
    "<div class=\"def\">\n",
    "\n",
    "<strong>Observation (Ryan, 1.8).\n",
    "Decomposition of sound into pure tones.</strong>\n",
    "\n",
    "Any sound $f$ is a sum of pure tones at different frequencies. The amount of each frequency required to form $f$ is the *frequency content* of $f$. Any sound can be reconstructed from its frequency content.\n",
    "<br><br>\n",
    "</div>"
   ]
  },
  {
   "cell_type": "markdown",
   "metadata": {},
   "source": [
    "<hr>\n",
    "\n",
    "**TODO: Work more intensely on the following sections.**\n",
    "\n",
    "<hr>"
   ]
  },
  {
   "cell_type": "markdown",
   "metadata": {},
   "source": [
    "> The focus in Discrete Fourier analysis is to change coordinates from standard basis to the Fourier basis, performing some operations on this \"Fourier representation\", and then change coordinates back to the standard basis. [Ryan, p. 51]"
   ]
  },
  {
   "cell_type": "markdown",
   "metadata": {},
   "source": [
    "### **Discrete Fourier Transform (DFT)**\n",
    "\n",
    "Importing important libarys and implementing DFT function "
   ]
  },
  {
   "cell_type": "code",
   "execution_count": null,
   "metadata": {},
   "outputs": [],
   "source": [
    "def dft(x):\n",
    "    N = len(x)\n",
    "    n = np.arange(N)\n",
    "    k = n.reshape((N, 1))\n",
    "    e = np.exp(-2j * np.pi * k * n / N)\n",
    "\n",
    "    X = np.dot(e, x)\n",
    "\n",
    "    return X"
   ]
  },
  {
   "cell_type": "markdown",
   "metadata": {},
   "source": [
    "Importing .wav-file and printing length of the vector and sample rate\n",
    "\n",
    "Vector containing air pressure differences at different (discrete) time steps\n",
    "Sample rate says how many samples per second the .wav-file contains (normally 44100)"
   ]
  },
  {
   "cell_type": "code",
   "execution_count": null,
   "metadata": {},
   "outputs": [],
   "source": [
    "sample_rate, wav_data = wavfile.read(\"../data/sounds/sin02.wav\")\n",
    "print(len(wav_data))\n",
    "print(wav_data)\n",
    "print(sample_rate)"
   ]
  },
  {
   "cell_type": "markdown",
   "metadata": {},
   "source": [
    "### **Fourier transformation**\n",
    "\n",
    "performing DFT on wav-Vector. \n",
    "dft_result contains \"frequencies\" ( = periodic functions with given frequency) and quantity of frequence in measured signal"
   ]
  },
  {
   "cell_type": "code",
   "execution_count": null,
   "metadata": {},
   "outputs": [],
   "source": [
    "dft_result = np.fft.fft(wav_data)\n",
    "print(dft_result)\n",
    "n = len(dft_result)\n",
    "n"
   ]
  },
  {
   "cell_type": "markdown",
   "metadata": {},
   "source": [
    "Determine occuring frequencies"
   ]
  },
  {
   "cell_type": "code",
   "execution_count": null,
   "metadata": {},
   "outputs": [],
   "source": [
    "n = len(wav_data)\n",
    "print(n)\n",
    "freqs = np.fft.fftfreq(n)\n",
    "print(freqs)"
   ]
  },
  {
   "cell_type": "markdown",
   "metadata": {},
   "source": [
    "### **Plot**\n",
    "\n",
    "Creating plot with amplitude of frequencies"
   ]
  },
  {
   "cell_type": "code",
   "execution_count": null,
   "metadata": {},
   "outputs": [],
   "source": [
    "plt.figure(figsize=(10, 6))\n",
    "plt.plot(freqs, np.real(dft_result))  # Nur die positive Frequenzhälfte\n",
    "plt.title(\"Fouriertransformierte des WAV-Vektors\")\n",
    "plt.xlabel(\"Frequenz (Hz)\")\n",
    "plt.ylabel(\"Amplitude\")\n",
    "plt.grid(True)\n",
    "plt.show()"
   ]
  },
  {
   "cell_type": "markdown",
   "metadata": {},
   "source": [
    "### **Inverse Discrete Fourier Transform (IDFT)**\n"
   ]
  },
  {
   "cell_type": "code",
   "execution_count": null,
   "metadata": {},
   "outputs": [],
   "source": [
    "def idft(x):\n",
    "    N = len(x)\n",
    "    n = np.arange(N)\n",
    "    k = n.reshape((N, 1))\n",
    "    e = np.exp(2j * np.pi * k * n / N)\n",
    "\n",
    "    X = np.dot(e, x)\n",
    "\n",
    "    return (1/N)*X"
   ]
  },
  {
   "cell_type": "code",
   "execution_count": null,
   "metadata": {},
   "outputs": [],
   "source": [
    "idft_result = idft(dft_result)\n",
    "len(idft_result)\n",
    "idft_result"
   ]
  },
  {
   "cell_type": "markdown",
   "metadata": {},
   "source": [
    "### **Fix rounding issues**"
   ]
  },
  {
   "cell_type": "code",
   "execution_count": null,
   "metadata": {},
   "outputs": [],
   "source": [
    "idft_rounded = np.around(idft_result, 6)  # 6 -> ok, 7 -> not ok\n",
    "\n",
    "if np.array_equal(wav_data, idft_rounded):\n",
    "    print(\"ok\")\n",
    "else:\n",
    "    print(\"not ok\")"
   ]
  },
  {
   "cell_type": "markdown",
   "metadata": {},
   "source": [
    "### **`.wav` output**"
   ]
  },
  {
   "cell_type": "code",
   "execution_count": null,
   "metadata": {},
   "outputs": [],
   "source": [
    "wavfile.write(\"../data/sounds/output.wav\", 44100, idft_rounded)"
   ]
  }
 ],
 "metadata": {
  "kernelspec": {
   "display_name": "SageMath 10.2",
   "language": "sage",
   "name": "sagemath"
  },
  "language_info": {
   "codemirror_mode": {
    "name": "ipython",
    "version": 3
   },
   "file_extension": ".py",
   "mimetype": "text/x-python",
   "name": "python",
   "nbconvert_exporter": "python",
   "pygments_lexer": "ipython3",
   "version": "3.11.8"
  }
 },
 "nbformat": 4,
 "nbformat_minor": 2
}
