{
 "cells": [
  {
   "cell_type": "markdown",
   "metadata": {},
   "source": [
    "<div class=\"warning\" style='padding:0.2em; margin:0em;\n",
    "  background-color:#FBAAAA; color:#521919;\n",
    "  border-left: solid #521919 4px; border-radius: 4px;'>\n",
    "\n",
    "<p style='margin:1em; text-align:center'>\n",
    "  <b>⚠ This notebook is under construction</b>\n",
    "</p>\n",
    "\n",
    "<p style='margin:1em;'>\n",
    "This document is currently being worked on and is far from being complete / ready to use. And don't worry, there will be more Sage-related code in the end.\n",
    "</p>\n",
    "\n",
    "</div>"
   ]
  },
  {
   "cell_type": "markdown",
   "metadata": {},
   "source": [
    "# **Fourier Transform in SageMath**\n",
    "**_A project by Felix Lentze & Dominic Plein ([@Splience](https://youtube.com/@splience))_**"
   ]
  },
  {
   "cell_type": "markdown",
   "metadata": {},
   "source": [
    "In this project, we will discuss what sound is, how to represent it mathematically & in a computer, and how to examine its frequency content using the Fourier Transform. The latter will be implemented in SageMath, a free open-source computer algebra system as superset of Python which bundles many great libraries like numpy, scipy, matplotlib, and more. With the help of filter matrices, the frequency spectrum of a sound can be manipulated. This is demonstrated with some sample sounds.\n",
    "\n",
    "This projected is intended for educational purposes, i.e. we don't focus on performance of our code (for that, see the FFT algorithm implemented in system-level languages like Rust or C++). Basic knowledge of linear algebra as well as Python are required. The key points are explained next to the code. The reader is encouraged to experiment with the code and the provided sound samples.\n",
    "\n",
    "Throughout your journey of exploring the amazing world of Fourier in this notebook, you might want to have the amazing book [Linear algebra, signal proceessing, and wavelets. A unified approach.](https://www.uio.no/studier/emner/matnat/math/nedlagte-emner/MAT-INF2360/v15/kompendium/) by Øyvind Ryan open next to you. When we reference a theorem/definition from this book, we refer to the January 21, 2015 Python edition."
   ]
  },
  {
   "cell_type": "markdown",
   "metadata": {},
   "source": [
    "<hr>"
   ]
  },
  {
   "cell_type": "markdown",
   "metadata": {},
   "source": [
    "### **Import packages**"
   ]
  },
  {
   "cell_type": "markdown",
   "metadata": {},
   "source": [
    "From the [Sage documentation](https://doc.sagemath.org/html/en/thematic_tutorials/numerical_sage/numerical_tools.html): <small>(highlights & line breaks by us)</small>\n",
    "\n",
    "> Sage has many different components that may be useful for numerical analysis. In particular three packages deserve mention, they are numpy, SciPy, and cvxopt.\n",
    "> - **Numpy** is an excellent package that provides fast array facilities to python. It includes some basic linear algebra routines, vectorized math routines, random number generators, etc. It supports a programming style similar to one would use in matlab and most matlab techniques have an analogue in numpy.\n",
    "> - **SciPy** builds on numpy and provides many different packages for optimization, root finding, statistics, linear algebra, interpolation, FFT and dsp tools, etc."
   ]
  },
  {
   "cell_type": "code",
   "execution_count": 71,
   "metadata": {},
   "outputs": [],
   "source": [
    "# Packages that ship with SageMath\n",
    "from scipy.io import wavfile\n",
    "import numpy as np\n",
    "import matplotlib.pyplot as plt\n",
    "\n",
    "# Interact with Jupyter notebooks, e.g. show sliders\n",
    "# See https://doc.sagemath.org/html/en/reference/repl/sage/repl/ipython_kernel/interact.html\n",
    "from sage.repl.ipython_kernel.interact import interact"
   ]
  },
  {
   "cell_type": "markdown",
   "metadata": {},
   "source": [
    "<hr>"
   ]
  },
  {
   "cell_type": "markdown",
   "metadata": {},
   "source": [
    "### **Intro: What is sound really?**"
   ]
  },
  {
   "cell_type": "markdown",
   "metadata": {},
   "source": [
    "We hear sounds every day - the chirping of birds, the rustling of leaves, the honking of cars, music, people talking. Physically speaking, sound is a pressure wave that propagates through a medium. Variations in air pressure near our ears cause our eardrums to vibrate, which our brain interprets as sound. The frequency of these pressure waves determines the pitch of the sound we hear. The amplitude of the pressure wave determines the loudness of the sound. As an example, consider the following sine wave and experiment with its parameters to see how they affect the sound:"
   ]
  },
  {
   "cell_type": "markdown",
   "metadata": {},
   "source": [
    "$$\\boxed{A(t) = \\sin(2\\pi f \\cdot t + \\varphi)}$$\n",
    "\n",
    "$$\\text{where }\n",
    "f: \\text{Frequency}, \\: \\varphi: \\text{Phase}$$"
   ]
  },
  {
   "cell_type": "markdown",
   "metadata": {},
   "source": [
    "**Watch out for your ears when playing the sound!**"
   ]
  },
  {
   "cell_type": "code",
   "execution_count": 127,
   "metadata": {},
   "outputs": [
    {
     "data": {
      "application/vnd.jupyter.widget-view+json": {
       "model_id": "9c7b968630a04b7193197cdc3f501ff5",
       "version_major": 2,
       "version_minor": 0
      },
      "text/plain": [
       "Interactive function <function sin_wave at 0x7f18609b0680> with 3 widgets\n",
       "  f: TransformFloatSlider(value=5.0, description='f', max=10.0)\n",
       "  phi: TransformFloatSlider(value=0.0, description='phi', max=3.141592653589793)\n",
       "  A_0: TransformFloatSlider(value=0.7, description='A_0', max=1.0)"
      ]
     },
     "metadata": {},
     "output_type": "display_data"
    }
   ],
   "source": [
    "from IPython.display import Audio\n",
    "\n",
    "@interact\n",
    "def sin_wave(f=slider(0, 10, 0.1, default=5),\n",
    "        phi=slider(0,pi), A_0=slider(0,1,0.1, default=0.7)):\n",
    "  # Plot the sine wave\n",
    "  A(t) = A_0 * sin(2*pi*f*t + phi)\n",
    "  show(plot(A(t), (t, 0, 2*pi), color=\"red\", thickness=1.5),\n",
    "  ymin=-1, ymax=1, figsize=(10, 4), axes_labels=[r'$t$', r'$A(t)$'])\n",
    "\n",
    "  # Generate audio file\n",
    "  SR = float(10000) # sample rate (samples per second, Hz)\n",
    "  T = 1.0 # duration of sound (seconds)\n",
    "  t_linspace = np.linspace(0, T, int(T*SR), endpoint=False)\n",
    "  wave = A_0 * np.sin(2*np.pi*float(f*100)*t_linspace + phi)\n",
    "  display(Audio(wave, rate=SR, normalize=False))"
   ]
  },
  {
   "cell_type": "markdown",
   "metadata": {},
   "source": [
    "<hr>\n",
    "\n",
    "**TODO: Work more intensely on the following sections.**\n",
    "\n",
    "<hr>"
   ]
  },
  {
   "cell_type": "markdown",
   "metadata": {},
   "source": [
    "### **Discrete Fourier Transform (DFT)**\n",
    "\n",
    "Importing important libarys and implementing DFT function "
   ]
  },
  {
   "cell_type": "code",
   "execution_count": 13,
   "metadata": {},
   "outputs": [],
   "source": [
    "def dft(x):\n",
    "  N = len(x)\n",
    "  n = np.arange(N)\n",
    "  k = n.reshape((N, 1))\n",
    "  e = np.exp(-2j * np.pi * k * n / N)\n",
    "  \n",
    "  X = np.dot(e, x)\n",
    "  \n",
    "  return X"
   ]
  },
  {
   "cell_type": "markdown",
   "metadata": {},
   "source": [
    "Importing .wav-file and printing length of the vector and sample rate\n",
    "\n",
    "Vector containing air pressure differences at different (discrete) time steps\n",
    "Sample rate says how many samples per second the .wav-file contains (normally 44100)"
   ]
  },
  {
   "cell_type": "code",
   "execution_count": 14,
   "metadata": {},
   "outputs": [
    {
     "name": "stdout",
     "output_type": "stream",
     "text": [
      "8821\n",
      "[    0 22924  6672 ...   -30   -52     0]\n",
      "44100\n"
     ]
    }
   ],
   "source": [
    "sample_rate, wav_data = wavfile.read('../data/sounds/sin02.wav')\n",
    "print(len(wav_data))\n",
    "print(wav_data)\n",
    "print(sample_rate)"
   ]
  },
  {
   "cell_type": "markdown",
   "metadata": {},
   "source": [
    "### **Fourier transformation**\n",
    "\n",
    "performing DFT on wav-Vector. \n",
    "dft_result contains \"frequencies\" ( = periodic functions with given frequency) and quantity of frequence in measured signal"
   ]
  },
  {
   "cell_type": "code",
   "execution_count": 15,
   "metadata": {},
   "outputs": [
    {
     "name": "stdout",
     "output_type": "stream",
     "text": [
      "[13419.        -6.17546903e-10j 13418.90599978+1.16276015e+00j\n",
      " 13418.6245381 +2.29974578e+00j ... 13418.15755215-3.38415198e+00j\n",
      " 13418.6245381 -2.29974578e+00j 13418.90599978-1.16276014e+00j]\n"
     ]
    },
    {
     "data": {
      "text/plain": [
       "8821"
      ]
     },
     "execution_count": 15,
     "metadata": {},
     "output_type": "execute_result"
    }
   ],
   "source": [
    "dft_result = np.fft.fft(wav_data)\n",
    "print(dft_result)\n",
    "n = len(dft_result)\n",
    "n"
   ]
  },
  {
   "cell_type": "markdown",
   "metadata": {},
   "source": [
    "Determine occuring frequencies"
   ]
  },
  {
   "cell_type": "code",
   "execution_count": 16,
   "metadata": {},
   "outputs": [
    {
     "name": "stdout",
     "output_type": "stream",
     "text": [
      "8821\n",
      "[ 0.          0.00011337  0.00022673 ... -0.0003401  -0.00022673\n",
      " -0.00011337]\n"
     ]
    }
   ],
   "source": [
    "n = len(wav_data)\n",
    "print(n) \n",
    "freqs = np.fft.fftfreq(n)\n",
    "print(freqs) "
   ]
  },
  {
   "cell_type": "markdown",
   "metadata": {},
   "source": [
    "### **Plot**\n",
    "\n",
    "Creating plot with amplitude of frequencies"
   ]
  },
  {
   "cell_type": "code",
   "execution_count": 17,
   "metadata": {},
   "outputs": [
    {
     "data": {
      "image/png": "[encoded data removed]",
      "text/plain": [
       "<Figure size 1000x600 with 1 Axes>"
      ]
     },
     "metadata": {},
     "output_type": "display_data"
    }
   ],
   "source": [
    "plt.figure(figsize=(10, 6))\n",
    "plt.plot(freqs, np.real(dft_result))  # Nur die positive Frequenzhälfte\n",
    "plt.title('Fouriertransformierte des WAV-Vektors')\n",
    "plt.xlabel('Frequenz (Hz)')\n",
    "plt.ylabel('Amplitude')\n",
    "plt.grid(True)\n",
    "plt.show()"
   ]
  },
  {
   "cell_type": "markdown",
   "metadata": {},
   "source": [
    "### **Inverse Discrete Fourier Transform (IDFT)**\n"
   ]
  },
  {
   "cell_type": "code",
   "execution_count": 18,
   "metadata": {},
   "outputs": [],
   "source": [
    "def idft(x):\n",
    "    N = len(x)\n",
    "    n = np.arange(N)\n",
    "    k = n.reshape((N, 1))\n",
    "    e = np.exp(2j * np.pi * k * n / N)\n",
    "    \n",
    "    X = np.dot(e, x)\n",
    "    \n",
    "    return (1/N)*X"
   ]
  },
  {
   "cell_type": "code",
   "execution_count": 19,
   "metadata": {},
   "outputs": [
    {
     "data": {
      "text/plain": [
       "array([-6.75238726e-12+1.15132491e-12j,  2.29240000e+04+9.50411967e-12j,\n",
       "        6.67200000e+03+3.76045500e-12j, ...,\n",
       "       -2.99999999e+01+3.15790419e-08j, -5.20000000e+01+2.52336755e-08j,\n",
       "        1.10988388e-08+4.48204571e-09j])"
      ]
     },
     "execution_count": 19,
     "metadata": {},
     "output_type": "execute_result"
    }
   ],
   "source": [
    "idft_result = idft(dft_result)\n",
    "len(idft_result)\n",
    "idft_result"
   ]
  },
  {
   "cell_type": "markdown",
   "metadata": {},
   "source": [
    "### **Fix rounding issues**"
   ]
  },
  {
   "cell_type": "code",
   "execution_count": 20,
   "metadata": {},
   "outputs": [
    {
     "name": "stdout",
     "output_type": "stream",
     "text": [
      "ok\n"
     ]
    }
   ],
   "source": [
    "idft_rounded = np.around(idft_result, 6) #6 -> ok, 7 -> not ok\n",
    "\n",
    "if np.array_equal(wav_data, idft_rounded):\n",
    "    print(\"ok\")\n",
    "else:\n",
    "    print(\"not ok\")"
   ]
  },
  {
   "cell_type": "markdown",
   "metadata": {},
   "source": [
    "### **`.wav` output**"
   ]
  },
  {
   "cell_type": "code",
   "execution_count": 21,
   "metadata": {},
   "outputs": [
    {
     "ename": "ValueError",
     "evalue": "Unsupported data type 'complex128'",
     "output_type": "error",
     "traceback": [
      "\u001b[0;31m---------------------------------------------------------------------------\u001b[0m",
      "\u001b[0;31mValueError\u001b[0m                                Traceback (most recent call last)",
      "Cell \u001b[0;32mIn[21], line 1\u001b[0m\n\u001b[0;32m----> 1\u001b[0m \u001b[43mwavfile\u001b[49m\u001b[38;5;241;43m.\u001b[39;49m\u001b[43mwrite\u001b[49m\u001b[43m(\u001b[49m\u001b[38;5;124;43m'\u001b[39;49m\u001b[38;5;124;43m../data/sounds/output.wav\u001b[39;49m\u001b[38;5;124;43m'\u001b[39;49m\u001b[43m,\u001b[49m\u001b[43m \u001b[49m\u001b[43mInteger\u001b[49m\u001b[43m(\u001b[49m\u001b[38;5;241;43m44100\u001b[39;49m\u001b[43m)\u001b[49m\u001b[43m,\u001b[49m\u001b[43m \u001b[49m\u001b[43midft_rounded\u001b[49m\u001b[43m)\u001b[49m\n",
      "File \u001b[0;32m~/miniforge3/envs/sage/lib/python3.11/site-packages/scipy/io/wavfile.py:775\u001b[0m, in \u001b[0;36mwrite\u001b[0;34m(filename, rate, data)\u001b[0m\n\u001b[1;32m    772\u001b[0m allowed_dtypes \u001b[38;5;241m=\u001b[39m [\u001b[38;5;124m'\u001b[39m\u001b[38;5;124mfloat32\u001b[39m\u001b[38;5;124m'\u001b[39m, \u001b[38;5;124m'\u001b[39m\u001b[38;5;124mfloat64\u001b[39m\u001b[38;5;124m'\u001b[39m,\n\u001b[1;32m    773\u001b[0m                   \u001b[38;5;124m'\u001b[39m\u001b[38;5;124muint8\u001b[39m\u001b[38;5;124m'\u001b[39m, \u001b[38;5;124m'\u001b[39m\u001b[38;5;124mint16\u001b[39m\u001b[38;5;124m'\u001b[39m, \u001b[38;5;124m'\u001b[39m\u001b[38;5;124mint32\u001b[39m\u001b[38;5;124m'\u001b[39m, \u001b[38;5;124m'\u001b[39m\u001b[38;5;124mint64\u001b[39m\u001b[38;5;124m'\u001b[39m]\n\u001b[1;32m    774\u001b[0m \u001b[38;5;28;01mif\u001b[39;00m data\u001b[38;5;241m.\u001b[39mdtype\u001b[38;5;241m.\u001b[39mname \u001b[38;5;129;01mnot\u001b[39;00m \u001b[38;5;129;01min\u001b[39;00m allowed_dtypes:\n\u001b[0;32m--> 775\u001b[0m     \u001b[38;5;28;01mraise\u001b[39;00m \u001b[38;5;167;01mValueError\u001b[39;00m(\u001b[38;5;124m\"\u001b[39m\u001b[38;5;124mUnsupported data type \u001b[39m\u001b[38;5;124m'\u001b[39m\u001b[38;5;132;01m%s\u001b[39;00m\u001b[38;5;124m'\u001b[39m\u001b[38;5;124m\"\u001b[39m \u001b[38;5;241m%\u001b[39m data\u001b[38;5;241m.\u001b[39mdtype)\n\u001b[1;32m    777\u001b[0m header_data \u001b[38;5;241m=\u001b[39m \u001b[38;5;124mb\u001b[39m\u001b[38;5;124m'\u001b[39m\u001b[38;5;124m'\u001b[39m\n\u001b[1;32m    779\u001b[0m header_data \u001b[38;5;241m+\u001b[39m\u001b[38;5;241m=\u001b[39m \u001b[38;5;124mb\u001b[39m\u001b[38;5;124m'\u001b[39m\u001b[38;5;124mRIFF\u001b[39m\u001b[38;5;124m'\u001b[39m\n",
      "\u001b[0;31mValueError\u001b[0m: Unsupported data type 'complex128'"
     ]
    }
   ],
   "source": [
    "wavfile.write('../data/sounds/output.wav', 44100, idft_rounded)"
   ]
  }
 ],
 "metadata": {
  "kernelspec": {
   "display_name": "SageMath 10.2",
   "language": "sage",
   "name": "sagemath"
  },
  "language_info": {
   "codemirror_mode": {
    "name": "ipython",
    "version": 3
   },
   "file_extension": ".py",
   "mimetype": "text/x-python",
   "name": "python",
   "nbconvert_exporter": "python",
   "pygments_lexer": "ipython3",
   "version": "3.11.8"
  }
 },
 "nbformat": 4,
 "nbformat_minor": 2
}
