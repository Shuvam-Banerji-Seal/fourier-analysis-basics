{
 "cells": [
  {
   "cell_type": "markdown",
   "metadata": {},
   "source": [
    "## Dicrete Fourier Transformation\n",
    "On computers and various kinds of media players, the sound is digital, meaning that it is represented by a large number of function values, and not by a function defined for all time instances.\n",
    "In this chapter our starting point is simply a vector which represents the sound values, rather than a function f (t)."
   ]
  },
  {
   "cell_type": "markdown",
   "metadata": {},
   "source": [
    "<link rel=\"stylesheet\" href=\"./styles.css\">\n",
    "<div class=\"def\">\n",
    "\n",
    "<strong>Definition (Ryan, 2.1). Digital sound.</strong>\n",
    "\n",
    "A digital sound is a sequence $\\mathbf{x} = \\{ x_i \\}_{i=0}^{N-1}$ that corresponds to measurements of the air pressure of a sound $f$, recorded at a fixed rate of $f_s$ (sampling rate) measurements per second, i.e.,\n",
    "$$\n",
    "x_k = f\\left(\\frac{k}{f_s}\\right), \\quad \\text{for } k = 0, 1, \\ldots, N.\n",
    "$$\n",
    "\n",
    "<br>\n",
    "</div>\n"
   ]
  },
  {
   "cell_type": "markdown",
   "metadata": {},
   "source": [
    "Now we will parallel the developments we did for Fourier series, assuming instead that vectors (rather than functions) are involved. As with Fourier series we will assume that the vector is periodic. This means that we can represent it with the values from only the first period."
   ]
  },
  {
   "cell_type": "markdown",
   "metadata": {},
   "source": [
    "<link rel=\"stylesheet\" href=\"./styles.css\">\n",
    "<div class=\"def\">\n",
    "\n",
    "<strong>Definition (Ryan, 2.11).\n",
    "Euclidean inner product and norm for complex vectors.</strong>\n",
    "\n",
    "For complex vectors of length $N$, the Euclidean inner product is given by\n",
    "$$\\langle x, y \\rangle = \\sum_{k=0}^{N-1} x_k \\overline{y_k}.$$\n",
    "\n",
    "The associated norm is\n",
    "$$\\|x\\| = \\left( \\sum_{k=0}^{N-1} |x_k|^2 \\right)^{1/2}.$$\n",
    "\n",
    "<br>\n",
    "</div>"
   ]
  },
  {
   "cell_type": "markdown",
   "metadata": {},
   "source": [
    "In the previous chapter we saw that, using a Fourier series, a function with period\n",
    "T could be approximated by linear combinations of the the pure tones. This can be generalised to vectors, but then the pure tones must of course also be vectors."
   ]
  },
  {
   "cell_type": "markdown",
   "metadata": {},
   "source": [
    "<link rel=\"stylesheet\" href=\"./styles.css\">\n",
    "<div class=\"def\">\n",
    "\n",
    "<strong>Definition (Ryan, 2.12). Discrete Fourier analysis.</strong>\n",
    "\n",
    "In Discrete Fourier analysis, a vector $\\mathbf{x} = (x_0, \\ldots, x_{N-1})$ is represented as a linear combination of the $N$ vectors\n",
    "$$\n",
    "\\varphi_n = \\left( \\frac{1}{\\sqrt{N}}, e^{2\\pi i n / N}, e^{2\\pi i 2n / N}, \\ldots, e^{2\\pi i kn / N}, \\ldots, e^{2\\pi i n (N-1) / N} \\right).\n",
    "$$\n",
    "The whole collection $\\mathcal{F}_N = \\{ \\varphi_n \\}_{n=0}^{N-1}$ is called the $N$-point Fourier basis.\n",
    "\n",
    "<br>\n",
    "</div>\n"
   ]
  },
  {
   "cell_type": "markdown",
   "metadata": {},
   "source": [
    "The focus in Discrete Fourier analysis is to change coordinates from the standard basis to the Fourier basis"
   ]
  },
  {
   "cell_type": "markdown",
   "metadata": {},
   "source": [
    "<link rel=\"stylesheet\" href=\"./styles.css\">\n",
    "<div class=\"def\">\n",
    "\n",
    "<strong>Theorem (Ryan, 2.14/2.16). Discrete Fourier Transform.</strong>\n",
    "\n",
    "We will denote the change of coordinates matrix from the standard basis of $\\mathbb{R}^N$ to the Fourier basis $\\mathcal{F}_N$ by $F_N$. The Fourier matrix $F_N$ is the unitary $N \\times N$ matrix with entries given by\n",
    "$$\n",
    "(F_N)_{nk} = \\frac{1}{\\sqrt{N}} e^{-2\\pi i nk / N},\n",
    "$$\n",
    "for $0 \\le n, k \\le N - 1$.\n",
    "The matrix ${\\sqrt{N}}F_N$ is also called the (N-point) discrete Fourier transform, or DFT\n",
    "\n",
    "<br>\n",
    "</div>\n"
   ]
  },
  {
   "cell_type": "markdown",
   "metadata": {},
   "source": [
    "<link rel=\"stylesheet\" href=\"./styles.css\">\n",
    "<div class=\"def\">\n",
    "\n",
    "<strong>Proposition (Ryan, 2.24). Relation between Fourier coefficients and DFT coefficients.</strong>\n",
    "\n",
    "Let $N > 2M$, $f \\in V_{M,T}$, and let $\\mathbf{x} = \\{ f(kT/N) \\}_{k=0}^{N-1}$ be $N$ uniform samples from $f$ over $[0, T]$. The Fourier coefficients $z_n$ of $f$ can be computed from\n",
    "$$\n",
    "(z_0, z_1, \\ldots, z_M, 0, \\ldots, 0, z_{-M}, z_{-M+1}, \\ldots, z_{-1}) = \\frac{1}{N} \\text{DFT}_N \\mathbf{x}. \\quad (2.7)\n",
    "$$\n",
    "\n",
    "<br>\n",
    "</div>\n"
   ]
  },
  {
   "cell_type": "markdown",
   "metadata": {},
   "source": []
  }
 ],
 "metadata": {
  "kernelspec": {
   "display_name": "SageMath 10.0",
   "language": "sage",
   "name": "sagemath"
  },
  "language_info": {
   "codemirror_mode": {
    "name": "ipython",
    "version": 3
   },
   "file_extension": ".py",
   "mimetype": "text/x-python",
   "name": "python",
   "nbconvert_exporter": "python",
   "pygments_lexer": "ipython3",
   "version": "3.11.9"
  }
 },
 "nbformat": 4,
 "nbformat_minor": 2
}
